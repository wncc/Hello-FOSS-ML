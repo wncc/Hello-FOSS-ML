{
  "nbformat": 4,
  "nbformat_minor": 0,
  "metadata": {
    "kernelspec": {
      "display_name": "Python 3",
      "language": "python",
      "name": "python3"
    },
    "language_info": {
      "codemirror_mode": {
        "name": "ipython",
        "version": 3
      },
      "file_extension": ".py",
      "mimetype": "text/x-python",
      "name": "python",
      "nbconvert_exporter": "python",
      "pygments_lexer": "ipython3",
      "version": "3.7.8"
    },
    "papermill": {
      "duration": 22.836091,
      "end_time": "2020-08-16T00:03:21.705944",
      "environment_variables": {},
      "exception": null,
      "input_path": "__notebook__.ipynb",
      "output_path": "__notebook__.ipynb",
      "parameters": {},
      "start_time": "2020-08-16T00:02:58.869853",
      "version": "2.1.0"
    },
    "colab": {
      "name": "Titanic neural network Tensorflow.ipynb",
      "provenance": [],
      "toc_visible": true
    }
  },
  "cells": [
    {
      "cell_type": "markdown",
      "metadata": {
        "papermill": {
          "duration": 0.013006,
          "end_time": "2020-08-16T00:03:03.128147",
          "exception": false,
          "start_time": "2020-08-16T00:03:03.115141",
          "status": "completed"
        },
        "tags": [],
        "id": "u9C8wuwL9tjV"
      },
      "source": [
        "# **Introduction**"
      ]
    },
    {
      "cell_type": "markdown",
      "metadata": {
        "papermill": {
          "duration": 0.011151,
          "end_time": "2020-08-16T00:03:03.152442",
          "exception": false,
          "start_time": "2020-08-16T00:03:03.141291",
          "status": "completed"
        },
        "tags": [],
        "id": "PUT4Bp-e9tjX"
      },
      "source": [
        "***Howdy, Welcome to the Titanic***"
      ]
    },
    {
      "cell_type": "markdown",
      "metadata": {
        "papermill": {
          "duration": 0.010739,
          "end_time": "2020-08-16T00:03:03.174414",
          "exception": false,
          "start_time": "2020-08-16T00:03:03.163675",
          "status": "completed"
        },
        "tags": [],
        "id": "Zns4y_FB9tjZ"
      },
      "source": [
        "**To whom does this notebook appeal to?**<br><br>\n",
        "If you are just starting with WNNC's HELLO FOSS and want to do beginner task in ML, I suggest you start here!\n",
        "\n",
        "Run this notebook once and you can see the accuracy of this model is mere 61% :(\n",
        "\n",
        "Data reading, visualization and pre-processing has been done for you. We need you to tune the hypreparameters so as to improve its accuracy and bring it above **80%**. Head over to [this cell](#main) to make the nececsaary changes. Afterwards graphically visualise your training and validation accuracy with each epoch [here](#main2)."
      ]
    },
    {
      "cell_type": "markdown",
      "metadata": {
        "papermill": {
          "duration": 0.010834,
          "end_time": "2020-08-16T00:03:03.196238",
          "exception": false,
          "start_time": "2020-08-16T00:03:03.185404",
          "status": "completed"
        },
        "tags": [],
        "id": "svXOCSdR9tja"
      },
      "source": [
        "![](https://faithmag.com/sites/default/files/styles/article_full/public/2018-09/titanic2.jpg?h=6521bd5e&itok=H8td6QVv)"
      ]
    },
    {
      "cell_type": "markdown",
      "metadata": {
        "papermill": {
          "duration": 0.010991,
          "end_time": "2020-08-16T00:03:03.218357",
          "exception": false,
          "start_time": "2020-08-16T00:03:03.207366",
          "status": "completed"
        },
        "tags": [],
        "id": "COojNLXW9tjb"
      },
      "source": [
        "**Basic Imports**"
      ]
    },
    {
      "cell_type": "code",
      "metadata": {
        "_cell_guid": "b1076dfc-b9ad-4769-8c92-a6c4dae69d19",
        "_uuid": "8f2839f25d086af736a60e9eeb907d3b93b6e0e5",
        "execution": {
          "iopub.execute_input": "2020-08-16T00:03:03.250148Z",
          "iopub.status.busy": "2020-08-16T00:03:03.249436Z",
          "iopub.status.idle": "2020-08-16T00:03:04.161970Z",
          "shell.execute_reply": "2020-08-16T00:03:04.162628Z"
        },
        "papermill": {
          "duration": 0.933339,
          "end_time": "2020-08-16T00:03:04.162859",
          "exception": false,
          "start_time": "2020-08-16T00:03:03.229520",
          "status": "completed"
        },
        "tags": [],
        "id": "hMtro_Xe9tjc",
        "outputId": "a83eb405-3325-41de-d3d4-7e6a006a091d",
        "colab": {
          "base_uri": "https://localhost:8080/",
          "height": 101
        }
      },
      "source": [
        "\n",
        "import numpy as np # linear algebra\n",
        "import pandas as pd # data processing, CSV file I/O (e.g. pd.read_csv)\n",
        "import seaborn as sns\n",
        "import matplotlib.pyplot as plt\n",
        "%matplotlib inline\n",
        "sns.set()\n",
        "\n",
        "import os\n",
        "files = [f for f in os.listdir('./titanic/')]\n",
        "for f in files:\n",
        "        print(f)\n",
        "\n"
      ],
      "execution_count": 283,
      "outputs": [
        {
          "output_type": "stream",
          "text": [
            "train.csv\n",
            "gender_submission.csv\n",
            "grader.py\n",
            "test.csv\n",
            "output.csv\n"
          ],
          "name": "stdout"
        }
      ]
    },
    {
      "cell_type": "markdown",
      "metadata": {
        "papermill": {
          "duration": 0.01215,
          "end_time": "2020-08-16T00:03:04.187774",
          "exception": false,
          "start_time": "2020-08-16T00:03:04.175624",
          "status": "completed"
        },
        "tags": [],
        "id": "vyMt7OCw9tjl"
      },
      "source": [
        "# Reading In the Data"
      ]
    },
    {
      "cell_type": "markdown",
      "metadata": {
        "papermill": {
          "duration": 0.011264,
          "end_time": "2020-08-16T00:03:04.210794",
          "exception": false,
          "start_time": "2020-08-16T00:03:04.199530",
          "status": "completed"
        },
        "tags": [],
        "id": "EISEPFp99tjm"
      },
      "source": [
        "We will be first importing the data, and creating copies. I recommend this because it give you access to a clean untouched base file.\n",
        "Next, we will be dropping some things that we don't need such as passenger Id and Ticket price"
      ]
    },
    {
      "cell_type": "code",
      "metadata": {
        "_cell_guid": "79c7e3d0-c299-4dcb-8224-4455121ee9b0",
        "_uuid": "d629ff2d2480ee46fbb7e2d37f6b5fab8052498a",
        "execution": {
          "iopub.execute_input": "2020-08-16T00:03:04.244520Z",
          "iopub.status.busy": "2020-08-16T00:03:04.243877Z",
          "iopub.status.idle": "2020-08-16T00:03:04.272874Z",
          "shell.execute_reply": "2020-08-16T00:03:04.272333Z"
        },
        "papermill": {
          "duration": 0.050645,
          "end_time": "2020-08-16T00:03:04.272984",
          "exception": false,
          "start_time": "2020-08-16T00:03:04.222339",
          "status": "completed"
        },
        "tags": [],
        "id": "QCzgoX6D9tjn"
      },
      "source": [
        "train_data = pd.read_csv('./titanic/train.csv')\n",
        "test_data = pd.read_csv('./titanic/test.csv')\n",
        "#make a copy so your original data is not touched\n",
        "train = train_data.copy()\n",
        "test = test_data.copy()\n",
        "train.shape\n",
        "y_train = train['Survived']\n",
        "\n",
        "#We won't need passenger ID or ticket price for the model! They do not provide much insight on the training.\n",
        "Id = pd.DataFrame(test['PassengerId'])\n",
        "train.drop(['PassengerId'], axis = 1, inplace=True)\n",
        "test.drop(['PassengerId'], axis = 1, inplace=True)\n",
        "train.drop(['Survived'], axis = 1, inplace=True)\n",
        "train.drop(['Ticket'], axis = 1, inplace=True)\n",
        "test.drop(['Ticket'], axis = 1, inplace=True)"
      ],
      "execution_count": 284,
      "outputs": []
    },
    {
      "cell_type": "markdown",
      "metadata": {
        "papermill": {
          "duration": 0.011318,
          "end_time": "2020-08-16T00:03:04.295950",
          "exception": false,
          "start_time": "2020-08-16T00:03:04.284632",
          "status": "completed"
        },
        "tags": [],
        "id": "WMzf8wyg9tjt"
      },
      "source": [
        "**Let's take a look at our data!**"
      ]
    },
    {
      "cell_type": "code",
      "metadata": {
        "execution": {
          "iopub.execute_input": "2020-08-16T00:03:04.331882Z",
          "iopub.status.busy": "2020-08-16T00:03:04.331062Z",
          "iopub.status.idle": "2020-08-16T00:03:04.342848Z",
          "shell.execute_reply": "2020-08-16T00:03:04.342359Z"
        },
        "papermill": {
          "duration": 0.035458,
          "end_time": "2020-08-16T00:03:04.342950",
          "exception": false,
          "start_time": "2020-08-16T00:03:04.307492",
          "status": "completed"
        },
        "tags": [],
        "id": "78B0Sqmn9tju",
        "outputId": "83f8006c-f582-42c0-a078-5123a65dde1a",
        "colab": {
          "base_uri": "https://localhost:8080/",
          "height": 195
        }
      },
      "source": [
        "train.head()"
      ],
      "execution_count": 285,
      "outputs": [
        {
          "output_type": "execute_result",
          "data": {
            "text/html": [
              "<div>\n",
              "<style scoped>\n",
              "    .dataframe tbody tr th:only-of-type {\n",
              "        vertical-align: middle;\n",
              "    }\n",
              "\n",
              "    .dataframe tbody tr th {\n",
              "        vertical-align: top;\n",
              "    }\n",
              "\n",
              "    .dataframe thead th {\n",
              "        text-align: right;\n",
              "    }\n",
              "</style>\n",
              "<table border=\"1\" class=\"dataframe\">\n",
              "  <thead>\n",
              "    <tr style=\"text-align: right;\">\n",
              "      <th></th>\n",
              "      <th>Pclass</th>\n",
              "      <th>Name</th>\n",
              "      <th>Sex</th>\n",
              "      <th>Age</th>\n",
              "      <th>SibSp</th>\n",
              "      <th>Parch</th>\n",
              "      <th>Fare</th>\n",
              "      <th>Cabin</th>\n",
              "      <th>Embarked</th>\n",
              "    </tr>\n",
              "  </thead>\n",
              "  <tbody>\n",
              "    <tr>\n",
              "      <th>0</th>\n",
              "      <td>3</td>\n",
              "      <td>Braund, Mr. Owen Harris</td>\n",
              "      <td>male</td>\n",
              "      <td>22.0</td>\n",
              "      <td>1</td>\n",
              "      <td>0</td>\n",
              "      <td>7.2500</td>\n",
              "      <td>NaN</td>\n",
              "      <td>S</td>\n",
              "    </tr>\n",
              "    <tr>\n",
              "      <th>1</th>\n",
              "      <td>1</td>\n",
              "      <td>Cumings, Mrs. John Bradley (Florence Briggs Th...</td>\n",
              "      <td>female</td>\n",
              "      <td>38.0</td>\n",
              "      <td>1</td>\n",
              "      <td>0</td>\n",
              "      <td>71.2833</td>\n",
              "      <td>C85</td>\n",
              "      <td>C</td>\n",
              "    </tr>\n",
              "    <tr>\n",
              "      <th>2</th>\n",
              "      <td>3</td>\n",
              "      <td>Heikkinen, Miss. Laina</td>\n",
              "      <td>female</td>\n",
              "      <td>26.0</td>\n",
              "      <td>0</td>\n",
              "      <td>0</td>\n",
              "      <td>7.9250</td>\n",
              "      <td>NaN</td>\n",
              "      <td>S</td>\n",
              "    </tr>\n",
              "    <tr>\n",
              "      <th>3</th>\n",
              "      <td>1</td>\n",
              "      <td>Futrelle, Mrs. Jacques Heath (Lily May Peel)</td>\n",
              "      <td>female</td>\n",
              "      <td>35.0</td>\n",
              "      <td>1</td>\n",
              "      <td>0</td>\n",
              "      <td>53.1000</td>\n",
              "      <td>C123</td>\n",
              "      <td>S</td>\n",
              "    </tr>\n",
              "    <tr>\n",
              "      <th>4</th>\n",
              "      <td>3</td>\n",
              "      <td>Allen, Mr. William Henry</td>\n",
              "      <td>male</td>\n",
              "      <td>35.0</td>\n",
              "      <td>0</td>\n",
              "      <td>0</td>\n",
              "      <td>8.0500</td>\n",
              "      <td>NaN</td>\n",
              "      <td>S</td>\n",
              "    </tr>\n",
              "  </tbody>\n",
              "</table>\n",
              "</div>"
            ],
            "text/plain": [
              "   Pclass                                               Name  ... Cabin  Embarked\n",
              "0       3                            Braund, Mr. Owen Harris  ...   NaN         S\n",
              "1       1  Cumings, Mrs. John Bradley (Florence Briggs Th...  ...   C85         C\n",
              "2       3                             Heikkinen, Miss. Laina  ...   NaN         S\n",
              "3       1       Futrelle, Mrs. Jacques Heath (Lily May Peel)  ...  C123         S\n",
              "4       3                           Allen, Mr. William Henry  ...   NaN         S\n",
              "\n",
              "[5 rows x 9 columns]"
            ]
          },
          "metadata": {
            "tags": []
          },
          "execution_count": 285
        }
      ]
    },
    {
      "cell_type": "markdown",
      "metadata": {
        "papermill": {
          "duration": 0.013019,
          "end_time": "2020-08-16T00:03:04.368044",
          "exception": false,
          "start_time": "2020-08-16T00:03:04.355025",
          "status": "completed"
        },
        "tags": [],
        "id": "j-y7vWLo9tjz"
      },
      "source": [
        "**Lets see how many null values there are! We need to fill out these values later.**"
      ]
    },
    {
      "cell_type": "markdown",
      "metadata": {
        "papermill": {
          "duration": 0.011338,
          "end_time": "2020-08-16T00:03:04.392074",
          "exception": false,
          "start_time": "2020-08-16T00:03:04.380736",
          "status": "completed"
        },
        "tags": [],
        "id": "9vwtqT4b9tj0"
      },
      "source": [
        "**We see that we have some midding values from age, and a ton missing from cabin**"
      ]
    },
    {
      "cell_type": "code",
      "metadata": {
        "execution": {
          "iopub.execute_input": "2020-08-16T00:03:04.421999Z",
          "iopub.status.busy": "2020-08-16T00:03:04.421198Z",
          "iopub.status.idle": "2020-08-16T00:03:04.759985Z",
          "shell.execute_reply": "2020-08-16T00:03:04.759385Z"
        },
        "papermill": {
          "duration": 0.356365,
          "end_time": "2020-08-16T00:03:04.760097",
          "exception": false,
          "start_time": "2020-08-16T00:03:04.403732",
          "status": "completed"
        },
        "tags": [],
        "id": "a5hDe3Kv9tj1",
        "outputId": "ab2bb51e-2920-46bf-ad09-3ce1dcbb6b52",
        "colab": {
          "base_uri": "https://localhost:8080/",
          "height": 335
        }
      },
      "source": [
        "sns.heatmap(train.isnull(),yticklabels=False,cbar='BuPu')\n"
      ],
      "execution_count": 286,
      "outputs": [
        {
          "output_type": "execute_result",
          "data": {
            "text/plain": [
              "<matplotlib.axes._subplots.AxesSubplot at 0x7f0d0ea82fd0>"
            ]
          },
          "metadata": {
            "tags": []
          },
          "execution_count": 286
        },
        {
          "output_type": "display_data",
          "data": {
            "image/png": "[encoded data removed]",
            "text/plain": [
              "<Figure size 432x288 with 2 Axes>"
            ]
          },
          "metadata": {
            "tags": []
          }
        }
      ]
    },
    {
      "cell_type": "code",
      "metadata": {
        "execution": {
          "iopub.execute_input": "2020-08-16T00:03:04.797107Z",
          "iopub.status.busy": "2020-08-16T00:03:04.795587Z",
          "iopub.status.idle": "2020-08-16T00:03:04.799528Z",
          "shell.execute_reply": "2020-08-16T00:03:04.799041Z"
        },
        "papermill": {
          "duration": 0.027205,
          "end_time": "2020-08-16T00:03:04.799633",
          "exception": false,
          "start_time": "2020-08-16T00:03:04.772428",
          "status": "completed"
        },
        "tags": [],
        "id": "horw-xBl9tj_",
        "outputId": "210b6ee2-6efb-46d8-ea41-66654ebcf98e",
        "colab": {
          "base_uri": "https://localhost:8080/",
          "height": 185
        }
      },
      "source": [
        "train.isnull().sum().sort_values(ascending=False)[0:20]\n",
        "# we can see that cabin is midding a lot of values, and age is tooi!"
      ],
      "execution_count": 287,
      "outputs": [
        {
          "output_type": "execute_result",
          "data": {
            "text/plain": [
              "Cabin       687\n",
              "Age         177\n",
              "Embarked      2\n",
              "Fare          0\n",
              "Parch         0\n",
              "SibSp         0\n",
              "Sex           0\n",
              "Name          0\n",
              "Pclass        0\n",
              "dtype: int64"
            ]
          },
          "metadata": {
            "tags": []
          },
          "execution_count": 287
        }
      ]
    },
    {
      "cell_type": "markdown",
      "metadata": {
        "papermill": {
          "duration": 0.011933,
          "end_time": "2020-08-16T00:03:04.823720",
          "exception": false,
          "start_time": "2020-08-16T00:03:04.811787",
          "status": "completed"
        },
        "tags": [],
        "id": "2GtQdrFV9tkG"
      },
      "source": [
        "# **Data Cleaning**"
      ]
    },
    {
      "cell_type": "markdown",
      "metadata": {
        "papermill": {
          "duration": 0.011829,
          "end_time": "2020-08-16T00:03:04.847591",
          "exception": false,
          "start_time": "2020-08-16T00:03:04.835762",
          "status": "completed"
        },
        "tags": [],
        "id": "l8pZUEbi9tkH"
      },
      "source": [
        "**This is an awesome function I created that preprocesses the data. It does thes following**\n",
        "\n",
        "* Fills in null values based on mean or mode\n",
        "* Drops columns that are missing 50 percent of the data\n",
        "\n",
        "*You guys are free to copy this for loop for your own projects!*[](http://)"
      ]
    },
    {
      "cell_type": "code",
      "metadata": {
        "execution": {
          "iopub.execute_input": "2020-08-16T00:03:04.892575Z",
          "iopub.status.busy": "2020-08-16T00:03:04.891608Z",
          "iopub.status.idle": "2020-08-16T00:03:04.907126Z",
          "shell.execute_reply": "2020-08-16T00:03:04.906618Z"
        },
        "papermill": {
          "duration": 0.047502,
          "end_time": "2020-08-16T00:03:04.907233",
          "exception": false,
          "start_time": "2020-08-16T00:03:04.859731",
          "status": "completed"
        },
        "tags": [],
        "id": "gtzRlBFG9tkI"
      },
      "source": [
        "\n",
        "\n",
        "#clean the train data\n",
        "for i in list(train.columns):\n",
        "    dtype = train[i].dtype\n",
        "    values = 0\n",
        "    if(dtype == float or dtype == int):\n",
        "        method = 'mean'\n",
        "    else:\n",
        "        method = 'mode'\n",
        "    if(train[i].notnull().sum() / 891 <= .5):\n",
        "        train.drop(i, axis = 1, inplace=True)\n",
        "    elif method == 'mean':\n",
        "        train[i]=train[i].fillna(train[i].mean())\n",
        "\n",
        "    else:\n",
        "        train[i]=train[i].fillna(train[i].mode()[0])\n",
        "\n",
        "# WE CAN DO THIS FOR THE TEST SET TOO!\n",
        "\n",
        "#clean the test data\n",
        "for i in list(test.columns):\n",
        "    dtype = test[i].dtype\n",
        "    values = 0\n",
        "    if(dtype == float or dtype == int):\n",
        "        method = 'mean'\n",
        "    else:\n",
        "        method = 'mode'\n",
        "    if(test[i].notnull().sum() / 418 <= .5):\n",
        "        test.drop(i, axis = 1, inplace=True)\n",
        "    elif method == 'mean':\n",
        "        test[i]=test[i].fillna(test[i].mean())\n",
        "\n",
        "    else:\n",
        "        test[i]=test[i].fillna(test[i].mode()[0])\n",
        "\n",
        "\n"
      ],
      "execution_count": 288,
      "outputs": []
    },
    {
      "cell_type": "markdown",
      "metadata": {
        "papermill": {
          "duration": 0.011993,
          "end_time": "2020-08-16T00:03:04.931751",
          "exception": false,
          "start_time": "2020-08-16T00:03:04.919758",
          "status": "completed"
        },
        "tags": [],
        "id": "0IZiuGrq9tkN"
      },
      "source": [
        "**As we can see, all of the missing values are gone!**"
      ]
    },
    {
      "cell_type": "code",
      "metadata": {
        "_kg_hide-input": true,
        "execution": {
          "iopub.execute_input": "2020-08-16T00:03:04.963771Z",
          "iopub.status.busy": "2020-08-16T00:03:04.962852Z",
          "iopub.status.idle": "2020-08-16T00:03:05.218436Z",
          "shell.execute_reply": "2020-08-16T00:03:05.218946Z"
        },
        "papermill": {
          "duration": 0.275108,
          "end_time": "2020-08-16T00:03:05.219105",
          "exception": false,
          "start_time": "2020-08-16T00:03:04.943997",
          "status": "completed"
        },
        "tags": [],
        "id": "S76dSGux9tkO",
        "outputId": "851057f6-97a3-4af5-b0b3-c45d898b93ec",
        "colab": {
          "base_uri": "https://localhost:8080/",
          "height": 335
        }
      },
      "source": [
        "sns.heatmap(train.isnull(),yticklabels=False,cbar='BuPu')\n"
      ],
      "execution_count": 289,
      "outputs": [
        {
          "output_type": "execute_result",
          "data": {
            "text/plain": [
              "<matplotlib.axes._subplots.AxesSubplot at 0x7f0d1349a2b0>"
            ]
          },
          "metadata": {
            "tags": []
          },
          "execution_count": 289
        },
        {
          "output_type": "display_data",
          "data": {
            "image/png": "[encoded data removed]",
            "text/plain": [
              "<Figure size 432x288 with 2 Axes>"
            ]
          },
          "metadata": {
            "tags": []
          }
        }
      ]
    },
    {
      "cell_type": "markdown",
      "metadata": {
        "papermill": {
          "duration": 0.013345,
          "end_time": "2020-08-16T00:03:05.246558",
          "exception": false,
          "start_time": "2020-08-16T00:03:05.233213",
          "status": "completed"
        },
        "tags": [],
        "id": "OWLgkvQC9tkS"
      },
      "source": [
        "# **Feature Engineering**"
      ]
    },
    {
      "cell_type": "markdown",
      "metadata": {
        "papermill": {
          "duration": 0.014138,
          "end_time": "2020-08-16T00:03:05.274477",
          "exception": false,
          "start_time": "2020-08-16T00:03:05.260339",
          "status": "completed"
        },
        "tags": [],
        "id": "vqGS0FHS9tkT"
      },
      "source": [
        "**Title**"
      ]
    },
    {
      "cell_type": "markdown",
      "metadata": {
        "papermill": {
          "duration": 0.012818,
          "end_time": "2020-08-16T00:03:05.300776",
          "exception": false,
          "start_time": "2020-08-16T00:03:05.287958",
          "status": "completed"
        },
        "tags": [],
        "id": "_1U9hCwJ9tkU"
      },
      "source": [
        "Lets take out the Mr, Miss, etc from the name section, and create a new column names title!"
      ]
    },
    {
      "cell_type": "code",
      "metadata": {
        "execution": {
          "iopub.execute_input": "2020-08-16T00:03:05.346398Z",
          "iopub.status.busy": "2020-08-16T00:03:05.345561Z",
          "iopub.status.idle": "2020-08-16T00:03:05.349914Z",
          "shell.execute_reply": "2020-08-16T00:03:05.349327Z"
        },
        "papermill": {
          "duration": 0.035659,
          "end_time": "2020-08-16T00:03:05.350024",
          "exception": false,
          "start_time": "2020-08-16T00:03:05.314365",
          "status": "completed"
        },
        "tags": [],
        "id": "Ckqua-n99tkV"
      },
      "source": [
        "#TITLE\n",
        "\n",
        "train_test_data = [train, test] # combining train and test dataset\n",
        "\n",
        "for dataset in train_test_data:\n",
        "    dataset['Title'] = dataset['Name'].str.extract(' ([A-Za-z]+)\\.', expand=False)\n",
        "\n",
        "\n",
        "title_mapping = {\"Mr\": 0, \"Miss\": 1, \"Mrs\": 1, \n",
        "                 \"Master\": 0, \"Dr\": 1, \"Rev\": 0, \"Col\": 0, \"Major\": 0, \"Mlle\": 1,\"Countess\": 1,\n",
        "                 \"Ms\": 1, \"Lady\": 1, \"Jonkheer\": 1, \"Don\": 0, \"Dona\" : 1, \"Mme\": 0,\"Capt\": 0,\"Sir\": 0 }\n",
        "for dataset in train_test_data:\n",
        "    dataset['Title'] = dataset['Title'].map(title_mapping)\n",
        "    \n"
      ],
      "execution_count": 290,
      "outputs": []
    },
    {
      "cell_type": "markdown",
      "metadata": {
        "papermill": {
          "duration": 0.013586,
          "end_time": "2020-08-16T00:03:05.377981",
          "exception": false,
          "start_time": "2020-08-16T00:03:05.364395",
          "status": "completed"
        },
        "tags": [],
        "id": "luf2u_-g9tka"
      },
      "source": [
        "**Sex**\n"
      ]
    },
    {
      "cell_type": "markdown",
      "metadata": {
        "papermill": {
          "duration": 0.013191,
          "end_time": "2020-08-16T00:03:05.405476",
          "exception": false,
          "start_time": "2020-08-16T00:03:05.392285",
          "status": "completed"
        },
        "tags": [],
        "id": "4fWqegxE9tka"
      },
      "source": [
        "We can make male and female into catagorical variables such as 0 and 1"
      ]
    },
    {
      "cell_type": "code",
      "metadata": {
        "execution": {
          "iopub.execute_input": "2020-08-16T00:03:05.442498Z",
          "iopub.status.busy": "2020-08-16T00:03:05.441620Z",
          "iopub.status.idle": "2020-08-16T00:03:05.444837Z",
          "shell.execute_reply": "2020-08-16T00:03:05.444291Z"
        },
        "papermill": {
          "duration": 0.025484,
          "end_time": "2020-08-16T00:03:05.444947",
          "exception": false,
          "start_time": "2020-08-16T00:03:05.419463",
          "status": "completed"
        },
        "tags": [],
        "id": "GN-MZjg29tkb"
      },
      "source": [
        "    \n",
        "sex_mapping = {\"male\": 0, \"female\":1}\n",
        "for dataset in train_test_data:\n",
        "      dataset['Sex'] = dataset['Sex'].map(sex_mapping)\n"
      ],
      "execution_count": 291,
      "outputs": []
    },
    {
      "cell_type": "markdown",
      "metadata": {
        "papermill": {
          "duration": 0.013681,
          "end_time": "2020-08-16T00:03:05.472676",
          "exception": false,
          "start_time": "2020-08-16T00:03:05.458995",
          "status": "completed"
        },
        "tags": [],
        "id": "psij3Q-B9tkg"
      },
      "source": [
        "**Embarked**"
      ]
    },
    {
      "cell_type": "markdown",
      "metadata": {
        "papermill": {
          "duration": 0.014216,
          "end_time": "2020-08-16T00:03:05.500391",
          "exception": false,
          "start_time": "2020-08-16T00:03:05.486175",
          "status": "completed"
        },
        "tags": [],
        "id": "pKTdMm5V9tkg"
      },
      "source": [
        "Lets test to see if there is any correlation with Pclass and Embarked "
      ]
    },
    {
      "cell_type": "code",
      "metadata": {
        "execution": {
          "iopub.execute_input": "2020-08-16T00:03:05.537924Z",
          "iopub.status.busy": "2020-08-16T00:03:05.537005Z",
          "iopub.status.idle": "2020-08-16T00:03:05.764053Z",
          "shell.execute_reply": "2020-08-16T00:03:05.763057Z"
        },
        "papermill": {
          "duration": 0.249537,
          "end_time": "2020-08-16T00:03:05.764169",
          "exception": false,
          "start_time": "2020-08-16T00:03:05.514632",
          "status": "completed"
        },
        "tags": [],
        "id": "TwHju-OZ9tki",
        "outputId": "304b5b37-6954-44fc-aafd-37141c85e435",
        "colab": {
          "base_uri": "https://localhost:8080/",
          "height": 381
        }
      },
      "source": [
        "Pclass1 = train_data[train_data['Pclass'] == 1]['Embarked'].value_counts()\n",
        "Pclass2 = train_data[train_data['Pclass'] == 2]['Embarked'].value_counts()\n",
        "Pclass3 = train_data[train_data['Pclass'] == 3]['Embarked'].value_counts()\n",
        "\n",
        "df = pd.DataFrame([Pclass1, Pclass2, Pclass3])\n",
        "df.index = ['1st class','2nd class', '3rd class']\n",
        "df.plot(kind='bar',stacked=True, figsize=(10,5))"
      ],
      "execution_count": 292,
      "outputs": [
        {
          "output_type": "execute_result",
          "data": {
            "text/plain": [
              "<matplotlib.axes._subplots.AxesSubplot at 0x7f0d12bf1d30>"
            ]
          },
          "metadata": {
            "tags": []
          },
          "execution_count": 292
        },
        {
          "output_type": "display_data",
          "data": {
            "image/png": "[encoded data removed]",
            "text/plain": [
              "<Figure size 720x360 with 1 Axes>"
            ]
          },
          "metadata": {
            "tags": []
          }
        }
      ]
    },
    {
      "cell_type": "markdown",
      "metadata": {
        "papermill": {
          "duration": 0.014366,
          "end_time": "2020-08-16T00:03:05.793175",
          "exception": false,
          "start_time": "2020-08-16T00:03:05.778809",
          "status": "completed"
        },
        "tags": [],
        "id": "L5Pq7aqj9tkn"
      },
      "source": [
        "We can assign each embarked value to a numberical value for training later!"
      ]
    },
    {
      "cell_type": "code",
      "metadata": {
        "execution": {
          "iopub.execute_input": "2020-08-16T00:03:05.830003Z",
          "iopub.status.busy": "2020-08-16T00:03:05.829030Z",
          "iopub.status.idle": "2020-08-16T00:03:05.835622Z",
          "shell.execute_reply": "2020-08-16T00:03:05.835037Z"
        },
        "papermill": {
          "duration": 0.027899,
          "end_time": "2020-08-16T00:03:05.835744",
          "exception": false,
          "start_time": "2020-08-16T00:03:05.807845",
          "status": "completed"
        },
        "tags": [],
        "id": "s8afsgfg9tkn"
      },
      "source": [
        "for data in train_test_data:\n",
        "    data['Embarked'] = data['Embarked'].fillna(\"S\")\n",
        "    \n",
        "embarked_mapping = {\"S\": 0, \"C\": 1, \"Q\": 2}\n",
        "for dataset in train_test_data:\n",
        "    dataset['Embarked'] = dataset['Embarked'].map(embarked_mapping)"
      ],
      "execution_count": 293,
      "outputs": []
    },
    {
      "cell_type": "markdown",
      "metadata": {
        "papermill": {
          "duration": 0.013917,
          "end_time": "2020-08-16T00:03:05.863782",
          "exception": false,
          "start_time": "2020-08-16T00:03:05.849865",
          "status": "completed"
        },
        "tags": [],
        "id": "LI8YbM4r9tks"
      },
      "source": [
        "**Family Size**"
      ]
    },
    {
      "cell_type": "markdown",
      "metadata": {
        "papermill": {
          "duration": 0.014221,
          "end_time": "2020-08-16T00:03:05.892815",
          "exception": false,
          "start_time": "2020-08-16T00:03:05.878594",
          "status": "completed"
        },
        "tags": [],
        "id": "1lWwpnYi9tkt"
      },
      "source": [
        "Parch ( Parent & child ) and Sibsp( Sibling & Spouse ) are both contributing factors to family size, so lets make a new column called family size, and drop the other ones."
      ]
    },
    {
      "cell_type": "code",
      "metadata": {
        "execution": {
          "iopub.execute_input": "2020-08-16T00:03:05.931503Z",
          "iopub.status.busy": "2020-08-16T00:03:05.930571Z",
          "iopub.status.idle": "2020-08-16T00:03:05.933769Z",
          "shell.execute_reply": "2020-08-16T00:03:05.933193Z"
        },
        "papermill": {
          "duration": 0.025993,
          "end_time": "2020-08-16T00:03:05.933872",
          "exception": false,
          "start_time": "2020-08-16T00:03:05.907879",
          "status": "completed"
        },
        "tags": [],
        "id": "4ij1Hthh9tku"
      },
      "source": [
        "train[\"FamilySize\"] = train['SibSp'] + train['Parch'] + 1\n",
        "test[\"FamilySize\"] = test['SibSp'] + test['Parch'] + 1"
      ],
      "execution_count": 294,
      "outputs": []
    },
    {
      "cell_type": "markdown",
      "metadata": {
        "papermill": {
          "duration": 0.014325,
          "end_time": "2020-08-16T00:03:05.962742",
          "exception": false,
          "start_time": "2020-08-16T00:03:05.948417",
          "status": "completed"
        },
        "tags": [],
        "id": "MhC-fATE9tk0"
      },
      "source": [
        "# **Correlations**"
      ]
    },
    {
      "cell_type": "code",
      "metadata": {
        "execution": {
          "iopub.execute_input": "2020-08-16T00:03:05.997135Z",
          "iopub.status.busy": "2020-08-16T00:03:05.996451Z",
          "iopub.status.idle": "2020-08-16T00:03:06.312682Z",
          "shell.execute_reply": "2020-08-16T00:03:06.312109Z"
        },
        "papermill": {
          "duration": 0.334816,
          "end_time": "2020-08-16T00:03:06.312796",
          "exception": false,
          "start_time": "2020-08-16T00:03:05.977980",
          "status": "completed"
        },
        "tags": [],
        "id": "D-cN3qhp9tk1",
        "outputId": "f892ec4c-0af0-4eac-ae58-b4db9c58477d",
        "colab": {
          "base_uri": "https://localhost:8080/",
          "height": 337
        }
      },
      "source": [
        "sns.heatmap(train.corr(),cbar='plasma')\n"
      ],
      "execution_count": 295,
      "outputs": [
        {
          "output_type": "execute_result",
          "data": {
            "text/plain": [
              "<matplotlib.axes._subplots.AxesSubplot at 0x7f0d0ea580b8>"
            ]
          },
          "metadata": {
            "tags": []
          },
          "execution_count": 295
        },
        {
          "output_type": "display_data",
          "data": {
            "image/png": "[encoded data removed]",
            "text/plain": [
              "<Figure size 432x288 with 2 Axes>"
            ]
          },
          "metadata": {
            "tags": []
          }
        }
      ]
    },
    {
      "cell_type": "code",
      "metadata": {
        "execution": {
          "iopub.execute_input": "2020-08-16T00:03:06.354102Z",
          "iopub.status.busy": "2020-08-16T00:03:06.352041Z",
          "iopub.status.idle": "2020-08-16T00:03:06.354808Z",
          "shell.execute_reply": "2020-08-16T00:03:06.355312Z"
        },
        "papermill": {
          "duration": 0.027178,
          "end_time": "2020-08-16T00:03:06.355462",
          "exception": false,
          "start_time": "2020-08-16T00:03:06.328284",
          "status": "completed"
        },
        "tags": [],
        "id": "2JyrnLVJ9tk6"
      },
      "source": [
        "train.drop(['Name'], axis = 1, inplace=True)\n",
        "test.drop(['Name'], axis = 1, inplace=True)"
      ],
      "execution_count": 296,
      "outputs": []
    },
    {
      "cell_type": "code",
      "metadata": {
        "execution": {
          "iopub.execute_input": "2020-08-16T00:03:06.398320Z",
          "iopub.status.busy": "2020-08-16T00:03:06.397342Z",
          "iopub.status.idle": "2020-08-16T00:03:06.401654Z",
          "shell.execute_reply": "2020-08-16T00:03:06.401144Z"
        },
        "papermill": {
          "duration": 0.031322,
          "end_time": "2020-08-16T00:03:06.401771",
          "exception": false,
          "start_time": "2020-08-16T00:03:06.370449",
          "status": "completed"
        },
        "tags": [],
        "id": "Rmsu8oFP9tlA",
        "outputId": "fd247ea1-def2-4dc5-81a7-9fa1e083ca28",
        "colab": {
          "base_uri": "https://localhost:8080/",
          "height": 195
        }
      },
      "source": [
        "train.head()"
      ],
      "execution_count": 297,
      "outputs": [
        {
          "output_type": "execute_result",
          "data": {
            "text/html": [
              "<div>\n",
              "<style scoped>\n",
              "    .dataframe tbody tr th:only-of-type {\n",
              "        vertical-align: middle;\n",
              "    }\n",
              "\n",
              "    .dataframe tbody tr th {\n",
              "        vertical-align: top;\n",
              "    }\n",
              "\n",
              "    .dataframe thead th {\n",
              "        text-align: right;\n",
              "    }\n",
              "</style>\n",
              "<table border=\"1\" class=\"dataframe\">\n",
              "  <thead>\n",
              "    <tr style=\"text-align: right;\">\n",
              "      <th></th>\n",
              "      <th>Pclass</th>\n",
              "      <th>Sex</th>\n",
              "      <th>Age</th>\n",
              "      <th>SibSp</th>\n",
              "      <th>Parch</th>\n",
              "      <th>Fare</th>\n",
              "      <th>Embarked</th>\n",
              "      <th>Title</th>\n",
              "      <th>FamilySize</th>\n",
              "    </tr>\n",
              "  </thead>\n",
              "  <tbody>\n",
              "    <tr>\n",
              "      <th>0</th>\n",
              "      <td>3</td>\n",
              "      <td>0</td>\n",
              "      <td>22.0</td>\n",
              "      <td>1</td>\n",
              "      <td>0</td>\n",
              "      <td>7.2500</td>\n",
              "      <td>0</td>\n",
              "      <td>0</td>\n",
              "      <td>2</td>\n",
              "    </tr>\n",
              "    <tr>\n",
              "      <th>1</th>\n",
              "      <td>1</td>\n",
              "      <td>1</td>\n",
              "      <td>38.0</td>\n",
              "      <td>1</td>\n",
              "      <td>0</td>\n",
              "      <td>71.2833</td>\n",
              "      <td>1</td>\n",
              "      <td>1</td>\n",
              "      <td>2</td>\n",
              "    </tr>\n",
              "    <tr>\n",
              "      <th>2</th>\n",
              "      <td>3</td>\n",
              "      <td>1</td>\n",
              "      <td>26.0</td>\n",
              "      <td>0</td>\n",
              "      <td>0</td>\n",
              "      <td>7.9250</td>\n",
              "      <td>0</td>\n",
              "      <td>1</td>\n",
              "      <td>1</td>\n",
              "    </tr>\n",
              "    <tr>\n",
              "      <th>3</th>\n",
              "      <td>1</td>\n",
              "      <td>1</td>\n",
              "      <td>35.0</td>\n",
              "      <td>1</td>\n",
              "      <td>0</td>\n",
              "      <td>53.1000</td>\n",
              "      <td>0</td>\n",
              "      <td>1</td>\n",
              "      <td>2</td>\n",
              "    </tr>\n",
              "    <tr>\n",
              "      <th>4</th>\n",
              "      <td>3</td>\n",
              "      <td>0</td>\n",
              "      <td>35.0</td>\n",
              "      <td>0</td>\n",
              "      <td>0</td>\n",
              "      <td>8.0500</td>\n",
              "      <td>0</td>\n",
              "      <td>0</td>\n",
              "      <td>1</td>\n",
              "    </tr>\n",
              "  </tbody>\n",
              "</table>\n",
              "</div>"
            ],
            "text/plain": [
              "   Pclass  Sex   Age  SibSp  Parch     Fare  Embarked  Title  FamilySize\n",
              "0       3    0  22.0      1      0   7.2500         0      0           2\n",
              "1       1    1  38.0      1      0  71.2833         1      1           2\n",
              "2       3    1  26.0      0      0   7.9250         0      1           1\n",
              "3       1    1  35.0      1      0  53.1000         0      1           2\n",
              "4       3    0  35.0      0      0   8.0500         0      0           1"
            ]
          },
          "metadata": {
            "tags": []
          },
          "execution_count": 297
        }
      ]
    },
    {
      "cell_type": "code",
      "metadata": {
        "execution": {
          "iopub.execute_input": "2020-08-16T00:03:06.444039Z",
          "iopub.status.busy": "2020-08-16T00:03:06.443083Z",
          "iopub.status.idle": "2020-08-16T00:03:06.447367Z",
          "shell.execute_reply": "2020-08-16T00:03:06.446894Z"
        },
        "papermill": {
          "duration": 0.030995,
          "end_time": "2020-08-16T00:03:06.447465",
          "exception": false,
          "start_time": "2020-08-16T00:03:06.416470",
          "status": "completed"
        },
        "tags": [],
        "id": "JGVy6xiJ9tlF",
        "outputId": "18ac6f98-ab73-4421-f77e-f32a0b439897",
        "colab": {
          "base_uri": "https://localhost:8080/",
          "height": 195
        }
      },
      "source": [
        "test.head()"
      ],
      "execution_count": 298,
      "outputs": [
        {
          "output_type": "execute_result",
          "data": {
            "text/html": [
              "<div>\n",
              "<style scoped>\n",
              "    .dataframe tbody tr th:only-of-type {\n",
              "        vertical-align: middle;\n",
              "    }\n",
              "\n",
              "    .dataframe tbody tr th {\n",
              "        vertical-align: top;\n",
              "    }\n",
              "\n",
              "    .dataframe thead th {\n",
              "        text-align: right;\n",
              "    }\n",
              "</style>\n",
              "<table border=\"1\" class=\"dataframe\">\n",
              "  <thead>\n",
              "    <tr style=\"text-align: right;\">\n",
              "      <th></th>\n",
              "      <th>Pclass</th>\n",
              "      <th>Sex</th>\n",
              "      <th>Age</th>\n",
              "      <th>SibSp</th>\n",
              "      <th>Parch</th>\n",
              "      <th>Fare</th>\n",
              "      <th>Embarked</th>\n",
              "      <th>Title</th>\n",
              "      <th>FamilySize</th>\n",
              "    </tr>\n",
              "  </thead>\n",
              "  <tbody>\n",
              "    <tr>\n",
              "      <th>0</th>\n",
              "      <td>3</td>\n",
              "      <td>0</td>\n",
              "      <td>34.5</td>\n",
              "      <td>0</td>\n",
              "      <td>0</td>\n",
              "      <td>7.8292</td>\n",
              "      <td>2</td>\n",
              "      <td>0</td>\n",
              "      <td>1</td>\n",
              "    </tr>\n",
              "    <tr>\n",
              "      <th>1</th>\n",
              "      <td>3</td>\n",
              "      <td>1</td>\n",
              "      <td>47.0</td>\n",
              "      <td>1</td>\n",
              "      <td>0</td>\n",
              "      <td>7.0000</td>\n",
              "      <td>0</td>\n",
              "      <td>1</td>\n",
              "      <td>2</td>\n",
              "    </tr>\n",
              "    <tr>\n",
              "      <th>2</th>\n",
              "      <td>2</td>\n",
              "      <td>0</td>\n",
              "      <td>62.0</td>\n",
              "      <td>0</td>\n",
              "      <td>0</td>\n",
              "      <td>9.6875</td>\n",
              "      <td>2</td>\n",
              "      <td>0</td>\n",
              "      <td>1</td>\n",
              "    </tr>\n",
              "    <tr>\n",
              "      <th>3</th>\n",
              "      <td>3</td>\n",
              "      <td>0</td>\n",
              "      <td>27.0</td>\n",
              "      <td>0</td>\n",
              "      <td>0</td>\n",
              "      <td>8.6625</td>\n",
              "      <td>0</td>\n",
              "      <td>0</td>\n",
              "      <td>1</td>\n",
              "    </tr>\n",
              "    <tr>\n",
              "      <th>4</th>\n",
              "      <td>3</td>\n",
              "      <td>1</td>\n",
              "      <td>22.0</td>\n",
              "      <td>1</td>\n",
              "      <td>1</td>\n",
              "      <td>12.2875</td>\n",
              "      <td>0</td>\n",
              "      <td>1</td>\n",
              "      <td>3</td>\n",
              "    </tr>\n",
              "  </tbody>\n",
              "</table>\n",
              "</div>"
            ],
            "text/plain": [
              "   Pclass  Sex   Age  SibSp  Parch     Fare  Embarked  Title  FamilySize\n",
              "0       3    0  34.5      0      0   7.8292         2      0           1\n",
              "1       3    1  47.0      1      0   7.0000         0      1           2\n",
              "2       2    0  62.0      0      0   9.6875         2      0           1\n",
              "3       3    0  27.0      0      0   8.6625         0      0           1\n",
              "4       3    1  22.0      1      1  12.2875         0      1           3"
            ]
          },
          "metadata": {
            "tags": []
          },
          "execution_count": 298
        }
      ]
    },
    {
      "cell_type": "markdown",
      "metadata": {
        "papermill": {
          "duration": 0.01354,
          "end_time": "2020-08-16T00:03:06.476026",
          "exception": false,
          "start_time": "2020-08-16T00:03:06.462486",
          "status": "completed"
        },
        "tags": [],
        "id": "bS1Y1Uzl9tlK"
      },
      "source": [
        "# **PreProcessing**"
      ]
    },
    {
      "cell_type": "markdown",
      "metadata": {
        "papermill": {
          "duration": 0.014099,
          "end_time": "2020-08-16T00:03:06.504426",
          "exception": false,
          "start_time": "2020-08-16T00:03:06.490327",
          "status": "completed"
        },
        "tags": [],
        "id": "sin_8Lbb9tlL"
      },
      "source": [
        "**Now that our data looks good, lets get ready to build our models!**"
      ]
    },
    {
      "cell_type": "code",
      "metadata": {
        "execution": {
          "iopub.execute_input": "2020-08-16T00:03:06.538376Z",
          "iopub.status.busy": "2020-08-16T00:03:06.537612Z",
          "iopub.status.idle": "2020-08-16T00:03:12.103848Z",
          "shell.execute_reply": "2020-08-16T00:03:12.102607Z"
        },
        "papermill": {
          "duration": 5.585812,
          "end_time": "2020-08-16T00:03:12.103987",
          "exception": false,
          "start_time": "2020-08-16T00:03:06.518175",
          "status": "completed"
        },
        "tags": [],
        "id": "z8eLqcQN9tlM"
      },
      "source": [
        "#imports\n",
        "from sklearn.preprocessing import StandardScaler\n",
        "from sklearn.model_selection import train_test_split\n",
        "from sklearn.model_selection import GridSearchCV"
      ],
      "execution_count": 299,
      "outputs": []
    },
    {
      "cell_type": "markdown",
      "metadata": {
        "papermill": {
          "duration": 0.01503,
          "end_time": "2020-08-16T00:03:12.134200",
          "exception": false,
          "start_time": "2020-08-16T00:03:12.119170",
          "status": "completed"
        },
        "tags": [],
        "id": "OFcWGMEu9tlQ"
      },
      "source": [
        "We should scale the values in the data, so that the neural network can train better!"
      ]
    },
    {
      "cell_type": "code",
      "metadata": {
        "execution": {
          "iopub.execute_input": "2020-08-16T00:03:12.174580Z",
          "iopub.status.busy": "2020-08-16T00:03:12.173590Z",
          "iopub.status.idle": "2020-08-16T00:03:12.188156Z",
          "shell.execute_reply": "2020-08-16T00:03:12.187674Z"
        },
        "papermill": {
          "duration": 0.038245,
          "end_time": "2020-08-16T00:03:12.188266",
          "exception": false,
          "start_time": "2020-08-16T00:03:12.150021",
          "status": "completed"
        },
        "tags": [],
        "id": "mkDQQnMy9tlR"
      },
      "source": [
        "continuous = ['Age', 'Fare', 'Parch', 'Pclass', 'SibSp', 'FamilySize']\n",
        "\n",
        "scaler = StandardScaler()\n",
        "\n",
        "for var in continuous:\n",
        "    train[var] = train[var].astype('float64')\n",
        "    train[var] = scaler.fit_transform(train[var].values.reshape(-1, 1))\n",
        "for var in continuous:\n",
        "    test[var] = test[var].astype('float64')\n",
        "    test[var] = scaler.fit_transform(test[var].values.reshape(-1, 1))"
      ],
      "execution_count": 300,
      "outputs": []
    },
    {
      "cell_type": "code",
      "metadata": {
        "execution": {
          "iopub.execute_input": "2020-08-16T00:03:12.223938Z",
          "iopub.status.busy": "2020-08-16T00:03:12.223053Z",
          "iopub.status.idle": "2020-08-16T00:03:12.259925Z",
          "shell.execute_reply": "2020-08-16T00:03:12.260500Z"
        },
        "papermill": {
          "duration": 0.057722,
          "end_time": "2020-08-16T00:03:12.260637",
          "exception": false,
          "start_time": "2020-08-16T00:03:12.202915",
          "status": "completed"
        },
        "tags": [],
        "id": "CrgCS29a9tlV",
        "outputId": "9a963775-0bf4-409f-e584-c75eee59920f",
        "colab": {
          "base_uri": "https://localhost:8080/",
          "height": 314
        }
      },
      "source": [
        "train.describe(include='all').T\n"
      ],
      "execution_count": 301,
      "outputs": [
        {
          "output_type": "execute_result",
          "data": {
            "text/html": [
              "<div>\n",
              "<style scoped>\n",
              "    .dataframe tbody tr th:only-of-type {\n",
              "        vertical-align: middle;\n",
              "    }\n",
              "\n",
              "    .dataframe tbody tr th {\n",
              "        vertical-align: top;\n",
              "    }\n",
              "\n",
              "    .dataframe thead th {\n",
              "        text-align: right;\n",
              "    }\n",
              "</style>\n",
              "<table border=\"1\" class=\"dataframe\">\n",
              "  <thead>\n",
              "    <tr style=\"text-align: right;\">\n",
              "      <th></th>\n",
              "      <th>count</th>\n",
              "      <th>mean</th>\n",
              "      <th>std</th>\n",
              "      <th>min</th>\n",
              "      <th>25%</th>\n",
              "      <th>50%</th>\n",
              "      <th>75%</th>\n",
              "      <th>max</th>\n",
              "    </tr>\n",
              "  </thead>\n",
              "  <tbody>\n",
              "    <tr>\n",
              "      <th>Pclass</th>\n",
              "      <td>891.0</td>\n",
              "      <td>-2.031048e-16</td>\n",
              "      <td>1.000562</td>\n",
              "      <td>-1.566107</td>\n",
              "      <td>-0.369365</td>\n",
              "      <td>0.827377</td>\n",
              "      <td>0.827377</td>\n",
              "      <td>0.827377</td>\n",
              "    </tr>\n",
              "    <tr>\n",
              "      <th>Sex</th>\n",
              "      <td>891.0</td>\n",
              "      <td>3.524130e-01</td>\n",
              "      <td>0.477990</td>\n",
              "      <td>0.000000</td>\n",
              "      <td>0.000000</td>\n",
              "      <td>0.000000</td>\n",
              "      <td>1.000000</td>\n",
              "      <td>1.000000</td>\n",
              "    </tr>\n",
              "    <tr>\n",
              "      <th>Age</th>\n",
              "      <td>891.0</td>\n",
              "      <td>2.562796e-16</td>\n",
              "      <td>1.000562</td>\n",
              "      <td>-2.253155</td>\n",
              "      <td>-0.592481</td>\n",
              "      <td>0.000000</td>\n",
              "      <td>0.407926</td>\n",
              "      <td>3.870872</td>\n",
              "    </tr>\n",
              "    <tr>\n",
              "      <th>SibSp</th>\n",
              "      <td>891.0</td>\n",
              "      <td>3.456519e-16</td>\n",
              "      <td>1.000562</td>\n",
              "      <td>-0.474545</td>\n",
              "      <td>-0.474545</td>\n",
              "      <td>-0.474545</td>\n",
              "      <td>0.432793</td>\n",
              "      <td>6.784163</td>\n",
              "    </tr>\n",
              "    <tr>\n",
              "      <th>Parch</th>\n",
              "      <td>891.0</td>\n",
              "      <td>6.716164e-17</td>\n",
              "      <td>1.000562</td>\n",
              "      <td>-0.473674</td>\n",
              "      <td>-0.473674</td>\n",
              "      <td>-0.473674</td>\n",
              "      <td>-0.473674</td>\n",
              "      <td>6.974147</td>\n",
              "    </tr>\n",
              "    <tr>\n",
              "      <th>Fare</th>\n",
              "      <td>891.0</td>\n",
              "      <td>-4.373606e-17</td>\n",
              "      <td>1.000562</td>\n",
              "      <td>-0.648422</td>\n",
              "      <td>-0.489148</td>\n",
              "      <td>-0.357391</td>\n",
              "      <td>-0.024246</td>\n",
              "      <td>9.667167</td>\n",
              "    </tr>\n",
              "    <tr>\n",
              "      <th>Embarked</th>\n",
              "      <td>891.0</td>\n",
              "      <td>3.613917e-01</td>\n",
              "      <td>0.635673</td>\n",
              "      <td>0.000000</td>\n",
              "      <td>0.000000</td>\n",
              "      <td>0.000000</td>\n",
              "      <td>1.000000</td>\n",
              "      <td>2.000000</td>\n",
              "    </tr>\n",
              "    <tr>\n",
              "      <th>Title</th>\n",
              "      <td>891.0</td>\n",
              "      <td>3.591470e-01</td>\n",
              "      <td>0.480020</td>\n",
              "      <td>0.000000</td>\n",
              "      <td>0.000000</td>\n",
              "      <td>0.000000</td>\n",
              "      <td>1.000000</td>\n",
              "      <td>1.000000</td>\n",
              "    </tr>\n",
              "    <tr>\n",
              "      <th>FamilySize</th>\n",
              "      <td>891.0</td>\n",
              "      <td>2.502051e-16</td>\n",
              "      <td>1.000562</td>\n",
              "      <td>-0.560975</td>\n",
              "      <td>-0.560975</td>\n",
              "      <td>-0.560975</td>\n",
              "      <td>0.059160</td>\n",
              "      <td>5.640372</td>\n",
              "    </tr>\n",
              "  </tbody>\n",
              "</table>\n",
              "</div>"
            ],
            "text/plain": [
              "            count          mean       std  ...       50%       75%       max\n",
              "Pclass      891.0 -2.031048e-16  1.000562  ...  0.827377  0.827377  0.827377\n",
              "Sex         891.0  3.524130e-01  0.477990  ...  0.000000  1.000000  1.000000\n",
              "Age         891.0  2.562796e-16  1.000562  ...  0.000000  0.407926  3.870872\n",
              "SibSp       891.0  3.456519e-16  1.000562  ... -0.474545  0.432793  6.784163\n",
              "Parch       891.0  6.716164e-17  1.000562  ... -0.473674 -0.473674  6.974147\n",
              "Fare        891.0 -4.373606e-17  1.000562  ... -0.357391 -0.024246  9.667167\n",
              "Embarked    891.0  3.613917e-01  0.635673  ...  0.000000  1.000000  2.000000\n",
              "Title       891.0  3.591470e-01  0.480020  ...  0.000000  1.000000  1.000000\n",
              "FamilySize  891.0  2.502051e-16  1.000562  ... -0.560975  0.059160  5.640372\n",
              "\n",
              "[9 rows x 8 columns]"
            ]
          },
          "metadata": {
            "tags": []
          },
          "execution_count": 301
        }
      ]
    },
    {
      "cell_type": "markdown",
      "metadata": {
        "papermill": {
          "duration": 0.014497,
          "end_time": "2020-08-16T00:03:12.290830",
          "exception": false,
          "start_time": "2020-08-16T00:03:12.276333",
          "status": "completed"
        },
        "tags": [],
        "id": "Bf-Vn2Ej9tla"
      },
      "source": [
        "# **Neural Network**"
      ]
    },
    {
      "cell_type": "markdown",
      "metadata": {
        "papermill": {
          "duration": 0.014215,
          "end_time": "2020-08-16T00:03:12.319324",
          "exception": false,
          "start_time": "2020-08-16T00:03:12.305109",
          "status": "completed"
        },
        "tags": [],
        "id": "GDAvhoCE9tlb"
      },
      "source": [
        "<a id='main'></a>\n",
        "Here's the model! "
      ]
    },
    {
      "cell_type": "code",
      "metadata": {
        "execution": {
          "iopub.execute_input": "2020-08-16T00:03:12.359244Z",
          "iopub.status.busy": "2020-08-16T00:03:12.358425Z",
          "iopub.status.idle": "2020-08-16T00:03:15.147061Z",
          "shell.execute_reply": "2020-08-16T00:03:15.146465Z"
        },
        "papermill": {
          "duration": 2.812936,
          "end_time": "2020-08-16T00:03:15.147176",
          "exception": false,
          "start_time": "2020-08-16T00:03:12.334240",
          "status": "completed"
        },
        "tags": [],
        "id": "jYR0JZWO9tld"
      },
      "source": [
        "import keras\n",
        "import tensorflow as tf\n",
        "from keras.models import Sequential\n",
        "from keras.layers import Dense, Activation, Dropout, Flatten, Conv2D,MaxPool2D\n",
        "from keras.wrappers.scikit_learn import KerasClassifier\n",
        "\n",
        "tf.keras.optimizers.Adam(\n",
        "    learning_rate=0.05, name='adam',\n",
        ")\n",
        "#creating a model with sequential columns\n",
        "model = Sequential()\n",
        "\n",
        "#flattens the data into a 1d array\n",
        "model.add(Flatten())\n",
        "#creates the first latyer with the input dimanetion. \n",
        "\n",
        "model.add(Dense(16, input_dim=train.shape[1],kernel_initializer = 'uniform', activation='relu'))\n",
        "#next layer with 32 dense nodes\n",
        "model.add(Dense(8, kernel_initializer = 'uniform', activation = 'tanh'))\n",
        "\n",
        "#last layer is initiated here\n",
        "model.add(Dense(4,kernel_initializer = 'uniform', activation = 'relu'))\n",
        "\n",
        "# create output layer\n",
        "    # Feel free to experiment with the activation functions and the optimizers\n",
        "model.add(Dense(1, activation='sigmoid'))  # output layer\n",
        "    \n",
        "model.compile(loss='binary_crossentropy', optimizer='adam', metrics=['accuracy'])\n"
      ],
      "execution_count": 324,
      "outputs": []
    },
    {
      "cell_type": "markdown",
      "metadata": {
        "papermill": {
          "duration": 0.01447,
          "end_time": "2020-08-16T00:03:15.177913",
          "exception": false,
          "start_time": "2020-08-16T00:03:15.163443",
          "status": "completed"
        },
        "tags": [],
        "id": "_D454T1V9tlk"
      },
      "source": [
        "**Let's fit our model!**"
      ]
    },
    {
      "cell_type": "code",
      "metadata": {
        "execution": {
          "iopub.execute_input": "2020-08-16T00:03:15.255525Z",
          "iopub.status.busy": "2020-08-16T00:03:15.254916Z",
          "iopub.status.idle": "2020-08-16T00:03:18.280296Z",
          "shell.execute_reply": "2020-08-16T00:03:18.277527Z"
        },
        "papermill": {
          "duration": 3.047511,
          "end_time": "2020-08-16T00:03:18.280453",
          "exception": false,
          "start_time": "2020-08-16T00:03:15.232942",
          "status": "completed"
        },
        "tags": [],
        "id": "O6sX2_Km9tlm",
        "outputId": "ae1ec595-9794-47e8-9201-223cd3fa6fc3",
        "colab": {
          "base_uri": "https://localhost:8080/",
          "height": 810
        }
      },
      "source": [
        "history = model.fit(train, y_train, epochs=20, batch_size=10, validation_split = 0.2)"
      ],
      "execution_count": 325,
      "outputs": [
        {
          "output_type": "stream",
          "text": [
            "Epoch 1/20\n",
            "WARNING:tensorflow:Layer flatten_55 is casting an input tensor from dtype float64 to the layer's dtype of float32, which is new behavior in TensorFlow 2.  The layer has dtype float32 because its dtype defaults to floatx.\n",
            "\n",
            "If you intended to run this layer in float32, you can safely ignore this warning. If in doubt, this warning is likely only an issue if you are porting a TensorFlow 1.X model to TensorFlow 2.\n",
            "\n",
            "To change all layers to have dtype float64 by default, call `tf.keras.backend.set_floatx('float64')`. To change just this layer, pass dtype='float64' to the layer constructor. If you are the author of this layer, you can disable autocasting by passing autocast=False to the base Layer constructor.\n",
            "\n",
            "72/72 [==============================] - 0s 4ms/step - loss: 0.6865 - accuracy: 0.6096 - val_loss: 0.6679 - val_accuracy: 0.6425\n",
            "Epoch 2/20\n",
            "72/72 [==============================] - 0s 1ms/step - loss: 0.6362 - accuracy: 0.6292 - val_loss: 0.5552 - val_accuracy: 0.8101\n",
            "Epoch 3/20\n",
            "72/72 [==============================] - 0s 1ms/step - loss: 0.5451 - accuracy: 0.7879 - val_loss: 0.4498 - val_accuracy: 0.8324\n",
            "Epoch 4/20\n",
            "72/72 [==============================] - 0s 1ms/step - loss: 0.4825 - accuracy: 0.8006 - val_loss: 0.4044 - val_accuracy: 0.8380\n",
            "Epoch 5/20\n",
            "72/72 [==============================] - 0s 1ms/step - loss: 0.4623 - accuracy: 0.8048 - val_loss: 0.3910 - val_accuracy: 0.8380\n",
            "Epoch 6/20\n",
            "72/72 [==============================] - 0s 1ms/step - loss: 0.4563 - accuracy: 0.8062 - val_loss: 0.3852 - val_accuracy: 0.8436\n",
            "Epoch 7/20\n",
            "72/72 [==============================] - 0s 2ms/step - loss: 0.4485 - accuracy: 0.8160 - val_loss: 0.3803 - val_accuracy: 0.8436\n",
            "Epoch 8/20\n",
            "72/72 [==============================] - 0s 1ms/step - loss: 0.4457 - accuracy: 0.8062 - val_loss: 0.3806 - val_accuracy: 0.8380\n",
            "Epoch 9/20\n",
            "72/72 [==============================] - 0s 2ms/step - loss: 0.4408 - accuracy: 0.8174 - val_loss: 0.3792 - val_accuracy: 0.8380\n",
            "Epoch 10/20\n",
            "72/72 [==============================] - 0s 1ms/step - loss: 0.4361 - accuracy: 0.8216 - val_loss: 0.3762 - val_accuracy: 0.8436\n",
            "Epoch 11/20\n",
            "72/72 [==============================] - 0s 1ms/step - loss: 0.4365 - accuracy: 0.8160 - val_loss: 0.3775 - val_accuracy: 0.8547\n",
            "Epoch 12/20\n",
            "72/72 [==============================] - 0s 1ms/step - loss: 0.4346 - accuracy: 0.8244 - val_loss: 0.3732 - val_accuracy: 0.8492\n",
            "Epoch 13/20\n",
            "72/72 [==============================] - 0s 1ms/step - loss: 0.4342 - accuracy: 0.8202 - val_loss: 0.3735 - val_accuracy: 0.8547\n",
            "Epoch 14/20\n",
            "72/72 [==============================] - 0s 2ms/step - loss: 0.4313 - accuracy: 0.8258 - val_loss: 0.3718 - val_accuracy: 0.8547\n",
            "Epoch 15/20\n",
            "72/72 [==============================] - 0s 2ms/step - loss: 0.4330 - accuracy: 0.8230 - val_loss: 0.3752 - val_accuracy: 0.8436\n",
            "Epoch 16/20\n",
            "72/72 [==============================] - 0s 1ms/step - loss: 0.4298 - accuracy: 0.8301 - val_loss: 0.3742 - val_accuracy: 0.8436\n",
            "Epoch 17/20\n",
            "72/72 [==============================] - 0s 2ms/step - loss: 0.4304 - accuracy: 0.8272 - val_loss: 0.3727 - val_accuracy: 0.8492\n",
            "Epoch 18/20\n",
            "72/72 [==============================] - 0s 2ms/step - loss: 0.4294 - accuracy: 0.8301 - val_loss: 0.3726 - val_accuracy: 0.8436\n",
            "Epoch 19/20\n",
            "72/72 [==============================] - 0s 2ms/step - loss: 0.4256 - accuracy: 0.8315 - val_loss: 0.3756 - val_accuracy: 0.8436\n",
            "Epoch 20/20\n",
            "72/72 [==============================] - 0s 1ms/step - loss: 0.4266 - accuracy: 0.8272 - val_loss: 0.3756 - val_accuracy: 0.8380\n"
          ],
          "name": "stdout"
        }
      ]
    },
    {
      "cell_type": "code",
      "metadata": {
        "execution": {
          "iopub.execute_input": "2020-08-16T00:03:18.351368Z",
          "iopub.status.busy": "2020-08-16T00:03:18.350307Z",
          "iopub.status.idle": "2020-08-16T00:03:18.359687Z",
          "shell.execute_reply": "2020-08-16T00:03:18.360395Z"
        },
        "papermill": {
          "duration": 0.051961,
          "end_time": "2020-08-16T00:03:18.360578",
          "exception": false,
          "start_time": "2020-08-16T00:03:18.308617",
          "status": "completed"
        },
        "tags": [],
        "id": "djkZmN7y9tlr",
        "outputId": "4ffb9dfd-5f2a-4940-a387-805b9a54b3dc",
        "colab": {
          "base_uri": "https://localhost:8080/",
          "height": 336
        }
      },
      "source": [
        "print(model.summary())\n"
      ],
      "execution_count": 326,
      "outputs": [
        {
          "output_type": "stream",
          "text": [
            "Model: \"sequential_55\"\n",
            "_________________________________________________________________\n",
            "Layer (type)                 Output Shape              Param #   \n",
            "=================================================================\n",
            "flatten_55 (Flatten)         (None, 9)                 0         \n",
            "_________________________________________________________________\n",
            "dense_250 (Dense)            (None, 16)                160       \n",
            "_________________________________________________________________\n",
            "dense_251 (Dense)            (None, 8)                 136       \n",
            "_________________________________________________________________\n",
            "dense_252 (Dense)            (None, 4)                 36        \n",
            "_________________________________________________________________\n",
            "dense_253 (Dense)            (None, 1)                 5         \n",
            "=================================================================\n",
            "Total params: 337\n",
            "Trainable params: 337\n",
            "Non-trainable params: 0\n",
            "_________________________________________________________________\n",
            "None\n"
          ],
          "name": "stdout"
        }
      ]
    },
    {
      "cell_type": "markdown",
      "metadata": {
        "papermill": {
          "duration": 0.023642,
          "end_time": "2020-08-16T00:03:18.414997",
          "exception": false,
          "start_time": "2020-08-16T00:03:18.391355",
          "status": "completed"
        },
        "tags": [],
        "id": "dzqpYQA39tly"
      },
      "source": [
        "**Evaluate the model!**"
      ]
    },
    {
      "cell_type": "code",
      "metadata": {
        "execution": {
          "iopub.execute_input": "2020-08-16T00:03:18.471648Z",
          "iopub.status.busy": "2020-08-16T00:03:18.470735Z",
          "iopub.status.idle": "2020-08-16T00:03:18.633492Z",
          "shell.execute_reply": "2020-08-16T00:03:18.636724Z"
        },
        "papermill": {
          "duration": 0.197758,
          "end_time": "2020-08-16T00:03:18.636917",
          "exception": false,
          "start_time": "2020-08-16T00:03:18.439159",
          "status": "completed"
        },
        "tags": [],
        "id": "L4e3_W7t9tlz",
        "outputId": "61e02404-a6b7-47ed-f3cf-3b42d0a2f9bb",
        "colab": {
          "base_uri": "https://localhost:8080/",
          "height": 34
        }
      },
      "source": [
        "scores = model.evaluate(train, y_train, batch_size=32)"
      ],
      "execution_count": 327,
      "outputs": [
        {
          "output_type": "stream",
          "text": [
            "28/28 [==============================] - 0s 877us/step - loss: 0.4130 - accuracy: 0.8350\n"
          ],
          "name": "stdout"
        }
      ]
    },
    {
      "cell_type": "markdown",
      "metadata": {
        "papermill": {
          "duration": 0.026701,
          "end_time": "2020-08-16T00:03:18.692199",
          "exception": false,
          "start_time": "2020-08-16T00:03:18.665498",
          "status": "completed"
        },
        "tags": [],
        "id": "mvCHb7rK9tl3"
      },
      "source": [
        "**Create Predictions**"
      ]
    },
    {
      "cell_type": "code",
      "metadata": {
        "execution": {
          "iopub.execute_input": "2020-08-16T00:03:18.751021Z",
          "iopub.status.busy": "2020-08-16T00:03:18.750047Z",
          "iopub.status.idle": "2020-08-16T00:03:19.062102Z",
          "shell.execute_reply": "2020-08-16T00:03:19.061231Z"
        },
        "papermill": {
          "duration": 0.350469,
          "end_time": "2020-08-16T00:03:19.062253",
          "exception": false,
          "start_time": "2020-08-16T00:03:18.711784",
          "status": "completed"
        },
        "tags": [],
        "id": "Y0Cve6TN9tl4"
      },
      "source": [
        "y_pred = model.predict(test)\n",
        "\n",
        "y_final = (y_pred > 0.5).astype(int).reshape(test.shape[0])\n",
        "\n",
        "output = pd.DataFrame({'PassengerId': test_data['PassengerId'], 'Survived': y_final})\n",
        "output.to_csv('prediction-ann.csv', index=False)"
      ],
      "execution_count": 328,
      "outputs": []
    },
    {
      "cell_type": "markdown",
      "metadata": {
        "papermill": {
          "duration": 0.026373,
          "end_time": "2020-08-16T00:03:19.115974",
          "exception": false,
          "start_time": "2020-08-16T00:03:19.089601",
          "status": "completed"
        },
        "tags": [],
        "id": "M66RaiQ_9tl8"
      },
      "source": [
        "# **Neural Network Analyasis**"
      ]
    },
    {
      "cell_type": "markdown",
      "metadata": {
        "papermill": {
          "duration": 0.026135,
          "end_time": "2020-08-16T00:03:19.168875",
          "exception": false,
          "start_time": "2020-08-16T00:03:19.142740",
          "status": "completed"
        },
        "tags": [],
        "id": "3m-njiwd9tl9"
      },
      "source": [
        "<a id='main2'></a>\n",
        "We can plot the loss, and val_loss & acc and val_acc\n",
        "The main purpose of this is to make sure the model follows a good trend, and to make sure that you are not overfitteing your model."
      ]
    },
    {
      "cell_type": "code",
      "metadata": {
        "execution": {
          "iopub.execute_input": "2020-08-16T00:03:19.244170Z",
          "iopub.status.busy": "2020-08-16T00:03:19.240633Z",
          "iopub.status.idle": "2020-08-16T00:03:19.614096Z",
          "shell.execute_reply": "2020-08-16T00:03:19.613359Z"
        },
        "papermill": {
          "duration": 0.419401,
          "end_time": "2020-08-16T00:03:19.614231",
          "exception": false,
          "start_time": "2020-08-16T00:03:19.194830",
          "status": "completed"
        },
        "tags": [],
        "id": "Hh1yANNH9tl-",
        "outputId": "7cc6a594-adc4-470b-a711-beb9d0395422",
        "colab": {
          "base_uri": "https://localhost:8080/",
          "height": 301
        }
      },
      "source": [
        "loss_train = history.history['loss']\n",
        "loss_val = history.history['val_loss']\n",
        "epochs = range(1,21)\n",
        "plt.plot(epochs, loss_train, 'g', label='Training loss')\n",
        "plt.plot(epochs, loss_val, 'b', label='validation loss')\n",
        "plt.title('Training and Validation loss')\n",
        "plt.xlabel('Epochs')\n",
        "plt.ylabel('Loss')\n",
        "plt.legend()\n",
        "plt.show()"
      ],
      "execution_count": 329,
      "outputs": [
        {
          "output_type": "display_data",
          "data": {
            "image/png": "[encoded data removed]",
            "text/plain": [
              "<Figure size 432x288 with 1 Axes>"
            ]
          },
          "metadata": {
            "tags": []
          }
        }
      ]
    }
  ]
}