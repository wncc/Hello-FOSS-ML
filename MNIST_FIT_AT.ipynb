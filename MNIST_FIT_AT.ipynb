{
  "nbformat": 4,
  "nbformat_minor": 0,
  "metadata": {
    "colab": {
      "name": "MNIST_FIT.ipynb",
      "provenance": []
    },
    "kernelspec": {
      "name": "python3",
      "display_name": "Python 3"
    }
  },
  "cells": [
    {
      "cell_type": "markdown",
      "metadata": {
        "id": "leoUR-h-OAzQ"
      },
      "source": [
        "# Fitiing the MNIST dataset"
      ]
    },
    {
      "cell_type": "markdown",
      "metadata": {
        "id": "ziMlmf4KOHqp"
      },
      "source": [
        "Run the code to load the dataset:"
      ]
    },
    {
      "cell_type": "code",
      "metadata": {
        "id": "0trJmd6DjqBZ"
      },
      "source": [
        "import tensorflow as tf\n",
        "from keras.utils import to_categorical"
      ],
      "execution_count": 384,
      "outputs": []
    },
    {
      "cell_type": "code",
      "metadata": {
        "id": "7FP5258xjs-v"
      },
      "source": [
        "mnist = tf.keras.datasets.mnist\n",
        "\n",
        "(x_train, y_train), (x_test, y_test) = mnist.load_data()\n",
        "\n",
        "x_train = x_train.reshape(-1, 28, 28, 1)/255.0\n",
        "x_test = x_test.reshape(-1, 28, 28, 1)/255.0\n"
      ],
      "execution_count": 385,
      "outputs": []
    },
    {
      "cell_type": "markdown",
      "metadata": {
        "id": "PvhgWovdOm4G"
      },
      "source": [
        "Your task is to train this data in the least time and with the best accuracy.\n",
        "Any algorithm can be used to do so, to implement algorithms in tensorflow refer to [this](https://www.tensorflow.org/tutorials) or [this](https://www.kaggle.com/learn/overview)."
      ]
    },
    {
      "cell_type": "code",
      "metadata": {
        "id": "rBb6JjvjbdEP"
      },
      "source": [
        "model1 = tf.keras.models.Sequential([\n",
        "  tf.keras.layers.Conv2D(8, (3, 3), activation='relu', input_shape=(28, 28, 1)),  \n",
        "  # tf.keras.layers.MaxPooling2D((2, 2)),                                 \n",
        "  # tf.keras.layers.Conv2D(16, (3, 3), activation='relu'),\n",
        "  # tf.keras.layers.Conv2D(16, (5, 5), strides=2 , activation='relu'), \n",
        "\n",
        "  tf.keras.layers.Flatten(),\n",
        "\n",
        "  tf.keras.layers.Dense(256, activation='relu'),\n",
        "  tf.keras.layers.Dropout(0.5),\n",
        "  \n",
        "  tf.keras.layers.Dense(10, activation='relu'),\n",
        "  \n",
        "])"
      ],
      "execution_count": 386,
      "outputs": []
    },
    {
      "cell_type": "code",
      "metadata": {
        "id": "YJ5bJ-r5xyKz"
      },
      "source": [
        "model2 = tf.keras.models.Sequential([ \n",
        "\n",
        "  tf.keras.layers.Flatten(),\n",
        "\n",
        "  tf.keras.layers.Dense(256, activation='relu'),\n",
        "  tf.keras.layers.Dropout(0.5),\n",
        "  tf.keras.layers.Dense(128, activation='relu'),\n",
        "  tf.keras.layers.Dropout(0.5),\n",
        "  \n",
        "  tf.keras.layers.Dense(10, activation='relu'),\n",
        "  \n",
        "])"
      ],
      "execution_count": 398,
      "outputs": []
    },
    {
      "cell_type": "code",
      "metadata": {
        "id": "TLk8GcG8bug9"
      },
      "source": [
        "loss_fn = tf.keras.losses.SparseCategoricalCrossentropy(from_logits=True)"
      ],
      "execution_count": 388,
      "outputs": []
    },
    {
      "cell_type": "code",
      "metadata": {
        "id": "7pB_nKrlbu_m"
      },
      "source": [
        "model1.compile(optimizer='adam',\n",
        "              loss=loss_fn,\n",
        "              metrics=['accuracy'])\n",
        "model2.compile(optimizer='adam',\n",
        "              loss=loss_fn,\n",
        "              metrics=['accuracy'])"
      ],
      "execution_count": 399,
      "outputs": []
    },
    {
      "cell_type": "code",
      "metadata": {
        "id": "7orae-s6bzLV",
        "outputId": "b63729d3-0101-4bdc-ef11-217145f81397",
        "colab": {
          "base_uri": "https://localhost:8080/",
          "height": 101
        }
      },
      "source": [
        "model1.fit(x_train, y_train, epochs=2)"
      ],
      "execution_count": 390,
      "outputs": [
        {
          "output_type": "stream",
          "text": [
            "Epoch 1/2\n",
            "1875/1875 [==============================] - 37s 20ms/step - loss: 0.2181 - accuracy: 0.9345\n",
            "Epoch 2/2\n",
            "1875/1875 [==============================] - 37s 20ms/step - loss: 0.0896 - accuracy: 0.9730\n"
          ],
          "name": "stdout"
        },
        {
          "output_type": "execute_result",
          "data": {
            "text/plain": [
              "<tensorflow.python.keras.callbacks.History at 0x7f24e6f19b70>"
            ]
          },
          "metadata": {
            "tags": []
          },
          "execution_count": 390
        }
      ]
    },
    {
      "cell_type": "code",
      "metadata": {
        "id": "qnK6kBgNxa1T",
        "outputId": "53a172ca-e7e1-40bc-94ae-781fb61e7b73",
        "colab": {
          "base_uri": "https://localhost:8080/",
          "height": 134
        }
      },
      "source": [
        "model2.fit(x_train, y_train, epochs=3)"
      ],
      "execution_count": 400,
      "outputs": [
        {
          "output_type": "stream",
          "text": [
            "Epoch 1/3\n",
            "1875/1875 [==============================] - 6s 3ms/step - loss: 0.4324 - accuracy: 0.8686\n",
            "Epoch 2/3\n",
            "1875/1875 [==============================] - 6s 3ms/step - loss: 0.2314 - accuracy: 0.9336\n",
            "Epoch 3/3\n",
            "1875/1875 [==============================] - 6s 3ms/step - loss: 0.1872 - accuracy: 0.9465\n"
          ],
          "name": "stdout"
        },
        {
          "output_type": "execute_result",
          "data": {
            "text/plain": [
              "<tensorflow.python.keras.callbacks.History at 0x7f24e3af7828>"
            ]
          },
          "metadata": {
            "tags": []
          },
          "execution_count": 400
        }
      ]
    },
    {
      "cell_type": "code",
      "metadata": {
        "id": "1odjYtZTb1BD",
        "outputId": "b366ddae-adc0-49ec-9d4e-7eed8dbccc7e",
        "colab": {
          "base_uri": "https://localhost:8080/",
          "height": 50
        }
      },
      "source": [
        "model1.evaluate(x_test,  y_test, verbose=2)"
      ],
      "execution_count": 392,
      "outputs": [
        {
          "output_type": "stream",
          "text": [
            "313/313 - 2s - loss: 0.0573 - accuracy: 0.9821\n"
          ],
          "name": "stdout"
        },
        {
          "output_type": "execute_result",
          "data": {
            "text/plain": [
              "[0.057326383888721466, 0.9821000099182129]"
            ]
          },
          "metadata": {
            "tags": []
          },
          "execution_count": 392
        }
      ]
    },
    {
      "cell_type": "code",
      "metadata": {
        "id": "IP5quM4gxuXN",
        "outputId": "22fccb24-8031-4f3d-eaef-5f85c166f05f",
        "colab": {
          "base_uri": "https://localhost:8080/",
          "height": 50
        }
      },
      "source": [
        "model2.evaluate(x_test,  y_test, verbose=2)"
      ],
      "execution_count": 401,
      "outputs": [
        {
          "output_type": "stream",
          "text": [
            "313/313 - 0s - loss: 0.1028 - accuracy: 0.9704\n"
          ],
          "name": "stdout"
        },
        {
          "output_type": "execute_result",
          "data": {
            "text/plain": [
              "[0.10276677459478378, 0.9703999757766724]"
            ]
          },
          "metadata": {
            "tags": []
          },
          "execution_count": 401
        }
      ]
    }
  ]
}