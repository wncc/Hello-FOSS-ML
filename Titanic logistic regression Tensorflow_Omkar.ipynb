{
 "cells": [
  {
   "cell_type": "markdown",
   "metadata": {
    "papermill": {
     "duration": 0.013006,
     "end_time": "2020-08-16T00:03:03.128147",
     "exception": false,
     "start_time": "2020-08-16T00:03:03.115141",
     "status": "completed"
    },
    "tags": []
   },
   "source": [
    "# **Introduction**"
   ]
  },
  {
   "cell_type": "markdown",
   "metadata": {
    "papermill": {
     "duration": 0.011151,
     "end_time": "2020-08-16T00:03:03.152442",
     "exception": false,
     "start_time": "2020-08-16T00:03:03.141291",
     "status": "completed"
    },
    "tags": []
   },
   "source": [
    "***Howdy, Welcome to the Titanic***"
   ]
  },
  {
   "cell_type": "markdown",
   "metadata": {
    "papermill": {
     "duration": 0.010739,
     "end_time": "2020-08-16T00:03:03.174414",
     "exception": false,
     "start_time": "2020-08-16T00:03:03.163675",
     "status": "completed"
    },
    "tags": []
   },
   "source": [
    "**To whom does this notebook appeal to?**<br><br>\n",
    "If you are just starting with WNNC's HELLO FOSS and want to do beginner task in ML, you can try this project!\n",
    "\n",
    "Data reading, visualization and pre-processing has been done for you. We need you to use logistic regression using sklearn library to predict whether or not they survived the sinking of the Titanic. We have also included `gender_submission.csv`, a set of predictions that assume all and only female passengers survive, as an example of what a submission file should look like.\n",
    "\n",
    "Head over to [this cell](#main) to implement logistic regression and then add code for writing the output to file `predictions-ann.csv` [here](#main2). "
   ]
  },
  {
   "cell_type": "markdown",
   "metadata": {
    "papermill": {
     "duration": 0.010834,
     "end_time": "2020-08-16T00:03:03.196238",
     "exception": false,
     "start_time": "2020-08-16T00:03:03.185404",
     "status": "completed"
    },
    "tags": []
   },
   "source": [
    "![](https://faithmag.com/sites/default/files/styles/article_full/public/2018-09/titanic2.jpg?h=6521bd5e&itok=H8td6QVv)"
   ]
  },
  {
   "cell_type": "markdown",
   "metadata": {
    "papermill": {
     "duration": 0.010991,
     "end_time": "2020-08-16T00:03:03.218357",
     "exception": false,
     "start_time": "2020-08-16T00:03:03.207366",
     "status": "completed"
    },
    "tags": []
   },
   "source": [
    "**Basic Imports**"
   ]
  },
  {
   "cell_type": "code",
   "execution_count": 1,
   "metadata": {
    "_cell_guid": "b1076dfc-b9ad-4769-8c92-a6c4dae69d19",
    "_uuid": "8f2839f25d086af736a60e9eeb907d3b93b6e0e5",
    "execution": {
     "iopub.execute_input": "2020-08-16T00:03:03.250148Z",
     "iopub.status.busy": "2020-08-16T00:03:03.249436Z",
     "iopub.status.idle": "2020-08-16T00:03:04.161970Z",
     "shell.execute_reply": "2020-08-16T00:03:04.162628Z"
    },
    "papermill": {
     "duration": 0.933339,
     "end_time": "2020-08-16T00:03:04.162859",
     "exception": false,
     "start_time": "2020-08-16T00:03:03.229520",
     "status": "completed"
    },
    "tags": []
   },
   "outputs": [
    {
     "name": "stdout",
     "output_type": "stream",
     "text": [
      "gender_submission.csv\n",
      "ouput.csv\n",
      "test.csv\n",
      "train.csv\n"
     ]
    }
   ],
   "source": [
    "\n",
    "import numpy as np # linear algebra\n",
    "import pandas as pd # data processing, CSV file I/O (e.g. pd.read_csv)\n",
    "import seaborn as sns\n",
    "import matplotlib.pyplot as plt\n",
    "%matplotlib inline\n",
    "sns.set()\n",
    "\n",
    "import os\n",
    "files = [f for f in os.listdir('./titanic/')]\n",
    "for f in files:\n",
    "        print(f)\n",
    "\n"
   ]
  },
  {
   "cell_type": "markdown",
   "metadata": {
    "papermill": {
     "duration": 0.01215,
     "end_time": "2020-08-16T00:03:04.187774",
     "exception": false,
     "start_time": "2020-08-16T00:03:04.175624",
     "status": "completed"
    },
    "tags": []
   },
   "source": [
    "# Reading In the Data"
   ]
  },
  {
   "cell_type": "markdown",
   "metadata": {
    "papermill": {
     "duration": 0.011264,
     "end_time": "2020-08-16T00:03:04.210794",
     "exception": false,
     "start_time": "2020-08-16T00:03:04.199530",
     "status": "completed"
    },
    "tags": []
   },
   "source": [
    "We will be first importing the data, and creating copies. I recommend this because it give you access to a clean untouched base file.\n",
    "Next, we will be dropping some things that we don't need such as passenger Id and Ticket price"
   ]
  },
  {
   "cell_type": "code",
   "execution_count": 24,
   "metadata": {
    "_cell_guid": "79c7e3d0-c299-4dcb-8224-4455121ee9b0",
    "_uuid": "d629ff2d2480ee46fbb7e2d37f6b5fab8052498a",
    "execution": {
     "iopub.execute_input": "2020-08-16T00:03:04.244520Z",
     "iopub.status.busy": "2020-08-16T00:03:04.243877Z",
     "iopub.status.idle": "2020-08-16T00:03:04.272874Z",
     "shell.execute_reply": "2020-08-16T00:03:04.272333Z"
    },
    "papermill": {
     "duration": 0.050645,
     "end_time": "2020-08-16T00:03:04.272984",
     "exception": false,
     "start_time": "2020-08-16T00:03:04.222339",
     "status": "completed"
    },
    "tags": []
   },
   "outputs": [],
   "source": [
    "train_data = pd.read_csv('./titanic/train.csv')\n",
    "test_data = pd.read_csv('./titanic/test.csv')\n",
    "#make a copy so your original data is not touched\n",
    "train = train_data.copy()\n",
    "test = test_data.copy()\n",
    "train.shape\n",
    "y_train = train['Survived']\n",
    "\n",
    "#We won't need passenger ID or ticket price for the model! They do not provide much insight on the training.\n",
    "Id = pd.DataFrame(test['PassengerId'])\n",
    "train.drop(['PassengerId'], axis = 1, inplace=True)\n",
    "test.drop(['PassengerId'], axis = 1, inplace=True)\n",
    "train.drop(['Survived'], axis = 1, inplace=True)\n",
    "train.drop(['Ticket'], axis = 1, inplace=True)\n",
    "test.drop(['Ticket'], axis = 1, inplace=True)"
   ]
  },
  {
   "cell_type": "markdown",
   "metadata": {
    "papermill": {
     "duration": 0.011318,
     "end_time": "2020-08-16T00:03:04.295950",
     "exception": false,
     "start_time": "2020-08-16T00:03:04.284632",
     "status": "completed"
    },
    "tags": []
   },
   "source": [
    "**Let's take a look at our data!**"
   ]
  },
  {
   "cell_type": "code",
   "execution_count": 3,
   "metadata": {
    "execution": {
     "iopub.execute_input": "2020-08-16T00:03:04.331882Z",
     "iopub.status.busy": "2020-08-16T00:03:04.331062Z",
     "iopub.status.idle": "2020-08-16T00:03:04.342848Z",
     "shell.execute_reply": "2020-08-16T00:03:04.342359Z"
    },
    "papermill": {
     "duration": 0.035458,
     "end_time": "2020-08-16T00:03:04.342950",
     "exception": false,
     "start_time": "2020-08-16T00:03:04.307492",
     "status": "completed"
    },
    "tags": []
   },
   "outputs": [
    {
     "data": {
      "text/html": [
       "<div>\n",
       "<style scoped>\n",
       "    .dataframe tbody tr th:only-of-type {\n",
       "        vertical-align: middle;\n",
       "    }\n",
       "\n",
       "    .dataframe tbody tr th {\n",
       "        vertical-align: top;\n",
       "    }\n",
       "\n",
       "    .dataframe thead th {\n",
       "        text-align: right;\n",
       "    }\n",
       "</style>\n",
       "<table border=\"1\" class=\"dataframe\">\n",
       "  <thead>\n",
       "    <tr style=\"text-align: right;\">\n",
       "      <th></th>\n",
       "      <th>Pclass</th>\n",
       "      <th>Name</th>\n",
       "      <th>Sex</th>\n",
       "      <th>Age</th>\n",
       "      <th>SibSp</th>\n",
       "      <th>Parch</th>\n",
       "      <th>Fare</th>\n",
       "      <th>Cabin</th>\n",
       "      <th>Embarked</th>\n",
       "    </tr>\n",
       "  </thead>\n",
       "  <tbody>\n",
       "    <tr>\n",
       "      <th>0</th>\n",
       "      <td>3</td>\n",
       "      <td>Braund, Mr. Owen Harris</td>\n",
       "      <td>male</td>\n",
       "      <td>22.0</td>\n",
       "      <td>1</td>\n",
       "      <td>0</td>\n",
       "      <td>7.2500</td>\n",
       "      <td>NaN</td>\n",
       "      <td>S</td>\n",
       "    </tr>\n",
       "    <tr>\n",
       "      <th>1</th>\n",
       "      <td>1</td>\n",
       "      <td>Cumings, Mrs. John Bradley (Florence Briggs Th...</td>\n",
       "      <td>female</td>\n",
       "      <td>38.0</td>\n",
       "      <td>1</td>\n",
       "      <td>0</td>\n",
       "      <td>71.2833</td>\n",
       "      <td>C85</td>\n",
       "      <td>C</td>\n",
       "    </tr>\n",
       "    <tr>\n",
       "      <th>2</th>\n",
       "      <td>3</td>\n",
       "      <td>Heikkinen, Miss. Laina</td>\n",
       "      <td>female</td>\n",
       "      <td>26.0</td>\n",
       "      <td>0</td>\n",
       "      <td>0</td>\n",
       "      <td>7.9250</td>\n",
       "      <td>NaN</td>\n",
       "      <td>S</td>\n",
       "    </tr>\n",
       "    <tr>\n",
       "      <th>3</th>\n",
       "      <td>1</td>\n",
       "      <td>Futrelle, Mrs. Jacques Heath (Lily May Peel)</td>\n",
       "      <td>female</td>\n",
       "      <td>35.0</td>\n",
       "      <td>1</td>\n",
       "      <td>0</td>\n",
       "      <td>53.1000</td>\n",
       "      <td>C123</td>\n",
       "      <td>S</td>\n",
       "    </tr>\n",
       "    <tr>\n",
       "      <th>4</th>\n",
       "      <td>3</td>\n",
       "      <td>Allen, Mr. William Henry</td>\n",
       "      <td>male</td>\n",
       "      <td>35.0</td>\n",
       "      <td>0</td>\n",
       "      <td>0</td>\n",
       "      <td>8.0500</td>\n",
       "      <td>NaN</td>\n",
       "      <td>S</td>\n",
       "    </tr>\n",
       "  </tbody>\n",
       "</table>\n",
       "</div>"
      ],
      "text/plain": [
       "   Pclass                                               Name     Sex   Age  \\\n",
       "0       3                            Braund, Mr. Owen Harris    male  22.0   \n",
       "1       1  Cumings, Mrs. John Bradley (Florence Briggs Th...  female  38.0   \n",
       "2       3                             Heikkinen, Miss. Laina  female  26.0   \n",
       "3       1       Futrelle, Mrs. Jacques Heath (Lily May Peel)  female  35.0   \n",
       "4       3                           Allen, Mr. William Henry    male  35.0   \n",
       "\n",
       "   SibSp  Parch     Fare Cabin Embarked  \n",
       "0      1      0   7.2500   NaN        S  \n",
       "1      1      0  71.2833   C85        C  \n",
       "2      0      0   7.9250   NaN        S  \n",
       "3      1      0  53.1000  C123        S  \n",
       "4      0      0   8.0500   NaN        S  "
      ]
     },
     "execution_count": 3,
     "metadata": {},
     "output_type": "execute_result"
    }
   ],
   "source": [
    "train.head()"
   ]
  },
  {
   "cell_type": "markdown",
   "metadata": {
    "papermill": {
     "duration": 0.013019,
     "end_time": "2020-08-16T00:03:04.368044",
     "exception": false,
     "start_time": "2020-08-16T00:03:04.355025",
     "status": "completed"
    },
    "tags": []
   },
   "source": [
    "**Lets see how many null values there are! We need to fill out these values later.**"
   ]
  },
  {
   "cell_type": "markdown",
   "metadata": {
    "papermill": {
     "duration": 0.011338,
     "end_time": "2020-08-16T00:03:04.392074",
     "exception": false,
     "start_time": "2020-08-16T00:03:04.380736",
     "status": "completed"
    },
    "tags": []
   },
   "source": [
    "**We see that we have some midding values from age, and a ton missing from cabin**"
   ]
  },
  {
   "cell_type": "code",
   "execution_count": 4,
   "metadata": {
    "execution": {
     "iopub.execute_input": "2020-08-16T00:03:04.421999Z",
     "iopub.status.busy": "2020-08-16T00:03:04.421198Z",
     "iopub.status.idle": "2020-08-16T00:03:04.759985Z",
     "shell.execute_reply": "2020-08-16T00:03:04.759385Z"
    },
    "papermill": {
     "duration": 0.356365,
     "end_time": "2020-08-16T00:03:04.760097",
     "exception": false,
     "start_time": "2020-08-16T00:03:04.403732",
     "status": "completed"
    },
    "tags": []
   },
   "outputs": [
    {
     "data": {
      "text/plain": [
       "<AxesSubplot:>"
      ]
     },
     "execution_count": 4,
     "metadata": {},
     "output_type": "execute_result"
    },
    {
     "data": {
      "image/png": "[encoded data removed]",
      "text/plain": [
       "<Figure size 432x288 with 2 Axes>"
      ]
     },
     "metadata": {},
     "output_type": "display_data"
    }
   ],
   "source": [
    "sns.heatmap(train.isnull(),yticklabels=False,cbar='BuPu')\n"
   ]
  },
  {
   "cell_type": "code",
   "execution_count": 5,
   "metadata": {
    "execution": {
     "iopub.execute_input": "2020-08-16T00:03:04.797107Z",
     "iopub.status.busy": "2020-08-16T00:03:04.795587Z",
     "iopub.status.idle": "2020-08-16T00:03:04.799528Z",
     "shell.execute_reply": "2020-08-16T00:03:04.799041Z"
    },
    "papermill": {
     "duration": 0.027205,
     "end_time": "2020-08-16T00:03:04.799633",
     "exception": false,
     "start_time": "2020-08-16T00:03:04.772428",
     "status": "completed"
    },
    "tags": []
   },
   "outputs": [
    {
     "data": {
      "text/plain": [
       "Cabin       687\n",
       "Age         177\n",
       "Embarked      2\n",
       "Fare          0\n",
       "Parch         0\n",
       "SibSp         0\n",
       "Sex           0\n",
       "Name          0\n",
       "Pclass        0\n",
       "dtype: int64"
      ]
     },
     "execution_count": 5,
     "metadata": {},
     "output_type": "execute_result"
    }
   ],
   "source": [
    "train.isnull().sum().sort_values(ascending=False)[0:20]\n",
    "# we can see that cabin is midding a lot of values, and age is tooi!"
   ]
  },
  {
   "cell_type": "markdown",
   "metadata": {
    "papermill": {
     "duration": 0.011933,
     "end_time": "2020-08-16T00:03:04.823720",
     "exception": false,
     "start_time": "2020-08-16T00:03:04.811787",
     "status": "completed"
    },
    "tags": []
   },
   "source": [
    "# **Data Cleaning**"
   ]
  },
  {
   "cell_type": "markdown",
   "metadata": {
    "papermill": {
     "duration": 0.011829,
     "end_time": "2020-08-16T00:03:04.847591",
     "exception": false,
     "start_time": "2020-08-16T00:03:04.835762",
     "status": "completed"
    },
    "tags": []
   },
   "source": [
    "**This is an awesome function I created that preprocesses the data. It does thes following**\n",
    "\n",
    "* Fills in null values based on mean or mode\n",
    "* Drops columns that are missing 50 percent of the data\n",
    "\n",
    "*You guys are free to copy this for loop for your own projects!*[](http://)"
   ]
  },
  {
   "cell_type": "code",
   "execution_count": 6,
   "metadata": {
    "execution": {
     "iopub.execute_input": "2020-08-16T00:03:04.892575Z",
     "iopub.status.busy": "2020-08-16T00:03:04.891608Z",
     "iopub.status.idle": "2020-08-16T00:03:04.907126Z",
     "shell.execute_reply": "2020-08-16T00:03:04.906618Z"
    },
    "papermill": {
     "duration": 0.047502,
     "end_time": "2020-08-16T00:03:04.907233",
     "exception": false,
     "start_time": "2020-08-16T00:03:04.859731",
     "status": "completed"
    },
    "tags": []
   },
   "outputs": [],
   "source": [
    "\n",
    "\n",
    "#clean the train data\n",
    "for i in list(train.columns):\n",
    "    dtype = train[i].dtype\n",
    "    values = 0\n",
    "    if(dtype == float or dtype == int):\n",
    "        method = 'mean'\n",
    "    else:\n",
    "        method = 'mode'\n",
    "    if(train[i].notnull().sum() / 891 <= .5):\n",
    "        train.drop(i, axis = 1, inplace=True)\n",
    "    elif method == 'mean':\n",
    "        train[i]=train[i].fillna(train[i].mean())\n",
    "\n",
    "    else:\n",
    "        train[i]=train[i].fillna(train[i].mode()[0])\n",
    "\n",
    "# WE CAN DO THIS FOR THE TEST SET TOO!\n",
    "\n",
    "#clean the test data\n",
    "for i in list(test.columns):\n",
    "    dtype = test[i].dtype\n",
    "    values = 0\n",
    "    if(dtype == float or dtype == int):\n",
    "        method = 'mean'\n",
    "    else:\n",
    "        method = 'mode'\n",
    "    if(test[i].notnull().sum() / 418 <= .5):\n",
    "        test.drop(i, axis = 1, inplace=True)\n",
    "    elif method == 'mean':\n",
    "        test[i]=test[i].fillna(test[i].mean())\n",
    "\n",
    "    else:\n",
    "        test[i]=test[i].fillna(test[i].mode()[0])\n",
    "\n",
    "\n"
   ]
  },
  {
   "cell_type": "markdown",
   "metadata": {
    "papermill": {
     "duration": 0.011993,
     "end_time": "2020-08-16T00:03:04.931751",
     "exception": false,
     "start_time": "2020-08-16T00:03:04.919758",
     "status": "completed"
    },
    "tags": []
   },
   "source": [
    "**As we can see, all of the missing values are gone!**"
   ]
  },
  {
   "cell_type": "code",
   "execution_count": 7,
   "metadata": {
    "_kg_hide-input": true,
    "execution": {
     "iopub.execute_input": "2020-08-16T00:03:04.963771Z",
     "iopub.status.busy": "2020-08-16T00:03:04.962852Z",
     "iopub.status.idle": "2020-08-16T00:03:05.218436Z",
     "shell.execute_reply": "2020-08-16T00:03:05.218946Z"
    },
    "papermill": {
     "duration": 0.275108,
     "end_time": "2020-08-16T00:03:05.219105",
     "exception": false,
     "start_time": "2020-08-16T00:03:04.943997",
     "status": "completed"
    },
    "tags": []
   },
   "outputs": [
    {
     "data": {
      "text/plain": [
       "<AxesSubplot:>"
      ]
     },
     "execution_count": 7,
     "metadata": {},
     "output_type": "execute_result"
    },
    {
     "data": {
      "image/png": "[encoded data removed]",
      "text/plain": [
       "<Figure size 432x288 with 2 Axes>"
      ]
     },
     "metadata": {},
     "output_type": "display_data"
    }
   ],
   "source": [
    "sns.heatmap(train.isnull(),yticklabels=False,cbar='BuPu')\n"
   ]
  },
  {
   "cell_type": "markdown",
   "metadata": {
    "papermill": {
     "duration": 0.013345,
     "end_time": "2020-08-16T00:03:05.246558",
     "exception": false,
     "start_time": "2020-08-16T00:03:05.233213",
     "status": "completed"
    },
    "tags": []
   },
   "source": [
    "# **Feature Engineering**"
   ]
  },
  {
   "cell_type": "markdown",
   "metadata": {
    "papermill": {
     "duration": 0.014138,
     "end_time": "2020-08-16T00:03:05.274477",
     "exception": false,
     "start_time": "2020-08-16T00:03:05.260339",
     "status": "completed"
    },
    "tags": []
   },
   "source": [
    "**Title**"
   ]
  },
  {
   "cell_type": "markdown",
   "metadata": {
    "papermill": {
     "duration": 0.012818,
     "end_time": "2020-08-16T00:03:05.300776",
     "exception": false,
     "start_time": "2020-08-16T00:03:05.287958",
     "status": "completed"
    },
    "tags": []
   },
   "source": [
    "Lets take out the Mr, Miss, etc from the name section, and create a new column names title!"
   ]
  },
  {
   "cell_type": "code",
   "execution_count": 8,
   "metadata": {
    "execution": {
     "iopub.execute_input": "2020-08-16T00:03:05.346398Z",
     "iopub.status.busy": "2020-08-16T00:03:05.345561Z",
     "iopub.status.idle": "2020-08-16T00:03:05.349914Z",
     "shell.execute_reply": "2020-08-16T00:03:05.349327Z"
    },
    "papermill": {
     "duration": 0.035659,
     "end_time": "2020-08-16T00:03:05.350024",
     "exception": false,
     "start_time": "2020-08-16T00:03:05.314365",
     "status": "completed"
    },
    "tags": []
   },
   "outputs": [],
   "source": [
    "#TITLE\n",
    "\n",
    "train_test_data = [train, test] # combining train and test dataset\n",
    "\n",
    "for dataset in train_test_data:\n",
    "    dataset['Title'] = dataset['Name'].str.extract(' ([A-Za-z]+)\\.', expand=False)\n",
    "\n",
    "\n",
    "title_mapping = {\"Mr\": 0, \"Miss\": 1, \"Mrs\": 1, \n",
    "                 \"Master\": 0, \"Dr\": 1, \"Rev\": 0, \"Col\": 0, \"Major\": 0, \"Mlle\": 1,\"Countess\": 1,\n",
    "                 \"Ms\": 1, \"Lady\": 1, \"Jonkheer\": 1, \"Don\": 0, \"Dona\" : 1, \"Mme\": 0,\"Capt\": 0,\"Sir\": 0 }\n",
    "for dataset in train_test_data:\n",
    "    dataset['Title'] = dataset['Title'].map(title_mapping)\n",
    "    \n"
   ]
  },
  {
   "cell_type": "markdown",
   "metadata": {
    "papermill": {
     "duration": 0.013586,
     "end_time": "2020-08-16T00:03:05.377981",
     "exception": false,
     "start_time": "2020-08-16T00:03:05.364395",
     "status": "completed"
    },
    "tags": []
   },
   "source": [
    "**Sex**\n"
   ]
  },
  {
   "cell_type": "markdown",
   "metadata": {
    "papermill": {
     "duration": 0.013191,
     "end_time": "2020-08-16T00:03:05.405476",
     "exception": false,
     "start_time": "2020-08-16T00:03:05.392285",
     "status": "completed"
    },
    "tags": []
   },
   "source": [
    "We can make male and female into catagorical variables such as 0 and 1"
   ]
  },
  {
   "cell_type": "code",
   "execution_count": 9,
   "metadata": {
    "execution": {
     "iopub.execute_input": "2020-08-16T00:03:05.442498Z",
     "iopub.status.busy": "2020-08-16T00:03:05.441620Z",
     "iopub.status.idle": "2020-08-16T00:03:05.444837Z",
     "shell.execute_reply": "2020-08-16T00:03:05.444291Z"
    },
    "papermill": {
     "duration": 0.025484,
     "end_time": "2020-08-16T00:03:05.444947",
     "exception": false,
     "start_time": "2020-08-16T00:03:05.419463",
     "status": "completed"
    },
    "tags": []
   },
   "outputs": [],
   "source": [
    "    \n",
    "sex_mapping = {\"male\": 0, \"female\":1}\n",
    "for dataset in train_test_data:\n",
    "    dataset['Sex'] = dataset['Sex'].map(sex_mapping)\n"
   ]
  },
  {
   "cell_type": "markdown",
   "metadata": {
    "papermill": {
     "duration": 0.013681,
     "end_time": "2020-08-16T00:03:05.472676",
     "exception": false,
     "start_time": "2020-08-16T00:03:05.458995",
     "status": "completed"
    },
    "tags": []
   },
   "source": [
    "**Embarked**"
   ]
  },
  {
   "cell_type": "markdown",
   "metadata": {
    "papermill": {
     "duration": 0.014216,
     "end_time": "2020-08-16T00:03:05.500391",
     "exception": false,
     "start_time": "2020-08-16T00:03:05.486175",
     "status": "completed"
    },
    "tags": []
   },
   "source": [
    "Lets test to see if there is any correlation with Pclass and Embarked "
   ]
  },
  {
   "cell_type": "code",
   "execution_count": 10,
   "metadata": {
    "execution": {
     "iopub.execute_input": "2020-08-16T00:03:05.537924Z",
     "iopub.status.busy": "2020-08-16T00:03:05.537005Z",
     "iopub.status.idle": "2020-08-16T00:03:05.764053Z",
     "shell.execute_reply": "2020-08-16T00:03:05.763057Z"
    },
    "papermill": {
     "duration": 0.249537,
     "end_time": "2020-08-16T00:03:05.764169",
     "exception": false,
     "start_time": "2020-08-16T00:03:05.514632",
     "status": "completed"
    },
    "tags": []
   },
   "outputs": [
    {
     "data": {
      "text/plain": [
       "<AxesSubplot:>"
      ]
     },
     "execution_count": 10,
     "metadata": {},
     "output_type": "execute_result"
    },
    {
     "data": {
      "image/png": "[encoded data removed]",
      "text/plain": [
       "<Figure size 720x360 with 1 Axes>"
      ]
     },
     "metadata": {},
     "output_type": "display_data"
    }
   ],
   "source": [
    "Pclass1 = train_data[train_data['Pclass'] == 1]['Embarked'].value_counts()\n",
    "Pclass2 = train_data[train_data['Pclass'] == 2]['Embarked'].value_counts()\n",
    "Pclass3 = train_data[train_data['Pclass'] == 3]['Embarked'].value_counts()\n",
    "\n",
    "df = pd.DataFrame([Pclass1, Pclass2, Pclass3])\n",
    "df.index = ['1st class','2nd class', '3rd class']\n",
    "df.plot(kind='bar',stacked=True, figsize=(10,5))"
   ]
  },
  {
   "cell_type": "markdown",
   "metadata": {
    "papermill": {
     "duration": 0.014366,
     "end_time": "2020-08-16T00:03:05.793175",
     "exception": false,
     "start_time": "2020-08-16T00:03:05.778809",
     "status": "completed"
    },
    "tags": []
   },
   "source": [
    "We can assign each embarked value to a numberical value for training later!"
   ]
  },
  {
   "cell_type": "code",
   "execution_count": 11,
   "metadata": {
    "execution": {
     "iopub.execute_input": "2020-08-16T00:03:05.830003Z",
     "iopub.status.busy": "2020-08-16T00:03:05.829030Z",
     "iopub.status.idle": "2020-08-16T00:03:05.835622Z",
     "shell.execute_reply": "2020-08-16T00:03:05.835037Z"
    },
    "papermill": {
     "duration": 0.027899,
     "end_time": "2020-08-16T00:03:05.835744",
     "exception": false,
     "start_time": "2020-08-16T00:03:05.807845",
     "status": "completed"
    },
    "tags": []
   },
   "outputs": [],
   "source": [
    "for data in train_test_data:\n",
    "    data['Embarked'] = data['Embarked'].fillna(\"S\")\n",
    "    \n",
    "embarked_mapping = {\"S\": 0, \"C\": 1, \"Q\": 2}\n",
    "for dataset in train_test_data:\n",
    "    dataset['Embarked'] = dataset['Embarked'].map(embarked_mapping)"
   ]
  },
  {
   "cell_type": "markdown",
   "metadata": {
    "papermill": {
     "duration": 0.013917,
     "end_time": "2020-08-16T00:03:05.863782",
     "exception": false,
     "start_time": "2020-08-16T00:03:05.849865",
     "status": "completed"
    },
    "tags": []
   },
   "source": [
    "**Family Size**"
   ]
  },
  {
   "cell_type": "markdown",
   "metadata": {
    "papermill": {
     "duration": 0.014221,
     "end_time": "2020-08-16T00:03:05.892815",
     "exception": false,
     "start_time": "2020-08-16T00:03:05.878594",
     "status": "completed"
    },
    "tags": []
   },
   "source": [
    "Parch ( Parent & child ) and Sibsp( Sibling & Spouse ) are both contributing factors to family size, so lets make a new column called family size, and drop the other ones."
   ]
  },
  {
   "cell_type": "code",
   "execution_count": 12,
   "metadata": {
    "execution": {
     "iopub.execute_input": "2020-08-16T00:03:05.931503Z",
     "iopub.status.busy": "2020-08-16T00:03:05.930571Z",
     "iopub.status.idle": "2020-08-16T00:03:05.933769Z",
     "shell.execute_reply": "2020-08-16T00:03:05.933193Z"
    },
    "papermill": {
     "duration": 0.025993,
     "end_time": "2020-08-16T00:03:05.933872",
     "exception": false,
     "start_time": "2020-08-16T00:03:05.907879",
     "status": "completed"
    },
    "tags": []
   },
   "outputs": [],
   "source": [
    "train[\"FamilySize\"] = train['SibSp'] + train['Parch'] + 1\n",
    "test[\"FamilySize\"] = test['SibSp'] + test['Parch'] + 1"
   ]
  },
  {
   "cell_type": "markdown",
   "metadata": {
    "papermill": {
     "duration": 0.014325,
     "end_time": "2020-08-16T00:03:05.962742",
     "exception": false,
     "start_time": "2020-08-16T00:03:05.948417",
     "status": "completed"
    },
    "tags": []
   },
   "source": [
    "# **Correlations**"
   ]
  },
  {
   "cell_type": "code",
   "execution_count": 13,
   "metadata": {
    "execution": {
     "iopub.execute_input": "2020-08-16T00:03:05.997135Z",
     "iopub.status.busy": "2020-08-16T00:03:05.996451Z",
     "iopub.status.idle": "2020-08-16T00:03:06.312682Z",
     "shell.execute_reply": "2020-08-16T00:03:06.312109Z"
    },
    "papermill": {
     "duration": 0.334816,
     "end_time": "2020-08-16T00:03:06.312796",
     "exception": false,
     "start_time": "2020-08-16T00:03:05.977980",
     "status": "completed"
    },
    "tags": []
   },
   "outputs": [
    {
     "data": {
      "text/plain": [
       "<AxesSubplot:>"
      ]
     },
     "execution_count": 13,
     "metadata": {},
     "output_type": "execute_result"
    },
    {
     "data": {
      "image/png": "[encoded data removed]",
      "text/plain": [
       "<Figure size 432x288 with 2 Axes>"
      ]
     },
     "metadata": {},
     "output_type": "display_data"
    }
   ],
   "source": [
    "sns.heatmap(train.corr(),cbar='plasma')\n"
   ]
  },
  {
   "cell_type": "code",
   "execution_count": 14,
   "metadata": {
    "execution": {
     "iopub.execute_input": "2020-08-16T00:03:06.354102Z",
     "iopub.status.busy": "2020-08-16T00:03:06.352041Z",
     "iopub.status.idle": "2020-08-16T00:03:06.354808Z",
     "shell.execute_reply": "2020-08-16T00:03:06.355312Z"
    },
    "papermill": {
     "duration": 0.027178,
     "end_time": "2020-08-16T00:03:06.355462",
     "exception": false,
     "start_time": "2020-08-16T00:03:06.328284",
     "status": "completed"
    },
    "tags": []
   },
   "outputs": [],
   "source": [
    "train.drop(['Name'], axis = 1, inplace=True)\n",
    "test.drop(['Name'], axis = 1, inplace=True)"
   ]
  },
  {
   "cell_type": "code",
   "execution_count": 15,
   "metadata": {
    "execution": {
     "iopub.execute_input": "2020-08-16T00:03:06.398320Z",
     "iopub.status.busy": "2020-08-16T00:03:06.397342Z",
     "iopub.status.idle": "2020-08-16T00:03:06.401654Z",
     "shell.execute_reply": "2020-08-16T00:03:06.401144Z"
    },
    "papermill": {
     "duration": 0.031322,
     "end_time": "2020-08-16T00:03:06.401771",
     "exception": false,
     "start_time": "2020-08-16T00:03:06.370449",
     "status": "completed"
    },
    "tags": []
   },
   "outputs": [
    {
     "data": {
      "text/html": [
       "<div>\n",
       "<style scoped>\n",
       "    .dataframe tbody tr th:only-of-type {\n",
       "        vertical-align: middle;\n",
       "    }\n",
       "\n",
       "    .dataframe tbody tr th {\n",
       "        vertical-align: top;\n",
       "    }\n",
       "\n",
       "    .dataframe thead th {\n",
       "        text-align: right;\n",
       "    }\n",
       "</style>\n",
       "<table border=\"1\" class=\"dataframe\">\n",
       "  <thead>\n",
       "    <tr style=\"text-align: right;\">\n",
       "      <th></th>\n",
       "      <th>Pclass</th>\n",
       "      <th>Sex</th>\n",
       "      <th>Age</th>\n",
       "      <th>SibSp</th>\n",
       "      <th>Parch</th>\n",
       "      <th>Fare</th>\n",
       "      <th>Embarked</th>\n",
       "      <th>Title</th>\n",
       "      <th>FamilySize</th>\n",
       "    </tr>\n",
       "  </thead>\n",
       "  <tbody>\n",
       "    <tr>\n",
       "      <th>0</th>\n",
       "      <td>3</td>\n",
       "      <td>0</td>\n",
       "      <td>22.0</td>\n",
       "      <td>1</td>\n",
       "      <td>0</td>\n",
       "      <td>7.2500</td>\n",
       "      <td>0</td>\n",
       "      <td>0</td>\n",
       "      <td>2</td>\n",
       "    </tr>\n",
       "    <tr>\n",
       "      <th>1</th>\n",
       "      <td>1</td>\n",
       "      <td>1</td>\n",
       "      <td>38.0</td>\n",
       "      <td>1</td>\n",
       "      <td>0</td>\n",
       "      <td>71.2833</td>\n",
       "      <td>1</td>\n",
       "      <td>1</td>\n",
       "      <td>2</td>\n",
       "    </tr>\n",
       "    <tr>\n",
       "      <th>2</th>\n",
       "      <td>3</td>\n",
       "      <td>1</td>\n",
       "      <td>26.0</td>\n",
       "      <td>0</td>\n",
       "      <td>0</td>\n",
       "      <td>7.9250</td>\n",
       "      <td>0</td>\n",
       "      <td>1</td>\n",
       "      <td>1</td>\n",
       "    </tr>\n",
       "    <tr>\n",
       "      <th>3</th>\n",
       "      <td>1</td>\n",
       "      <td>1</td>\n",
       "      <td>35.0</td>\n",
       "      <td>1</td>\n",
       "      <td>0</td>\n",
       "      <td>53.1000</td>\n",
       "      <td>0</td>\n",
       "      <td>1</td>\n",
       "      <td>2</td>\n",
       "    </tr>\n",
       "    <tr>\n",
       "      <th>4</th>\n",
       "      <td>3</td>\n",
       "      <td>0</td>\n",
       "      <td>35.0</td>\n",
       "      <td>0</td>\n",
       "      <td>0</td>\n",
       "      <td>8.0500</td>\n",
       "      <td>0</td>\n",
       "      <td>0</td>\n",
       "      <td>1</td>\n",
       "    </tr>\n",
       "  </tbody>\n",
       "</table>\n",
       "</div>"
      ],
      "text/plain": [
       "   Pclass  Sex   Age  SibSp  Parch     Fare  Embarked  Title  FamilySize\n",
       "0       3    0  22.0      1      0   7.2500         0      0           2\n",
       "1       1    1  38.0      1      0  71.2833         1      1           2\n",
       "2       3    1  26.0      0      0   7.9250         0      1           1\n",
       "3       1    1  35.0      1      0  53.1000         0      1           2\n",
       "4       3    0  35.0      0      0   8.0500         0      0           1"
      ]
     },
     "execution_count": 15,
     "metadata": {},
     "output_type": "execute_result"
    }
   ],
   "source": [
    "train.head()"
   ]
  },
  {
   "cell_type": "code",
   "execution_count": 16,
   "metadata": {
    "execution": {
     "iopub.execute_input": "2020-08-16T00:03:06.444039Z",
     "iopub.status.busy": "2020-08-16T00:03:06.443083Z",
     "iopub.status.idle": "2020-08-16T00:03:06.447367Z",
     "shell.execute_reply": "2020-08-16T00:03:06.446894Z"
    },
    "papermill": {
     "duration": 0.030995,
     "end_time": "2020-08-16T00:03:06.447465",
     "exception": false,
     "start_time": "2020-08-16T00:03:06.416470",
     "status": "completed"
    },
    "tags": []
   },
   "outputs": [
    {
     "data": {
      "text/html": [
       "<div>\n",
       "<style scoped>\n",
       "    .dataframe tbody tr th:only-of-type {\n",
       "        vertical-align: middle;\n",
       "    }\n",
       "\n",
       "    .dataframe tbody tr th {\n",
       "        vertical-align: top;\n",
       "    }\n",
       "\n",
       "    .dataframe thead th {\n",
       "        text-align: right;\n",
       "    }\n",
       "</style>\n",
       "<table border=\"1\" class=\"dataframe\">\n",
       "  <thead>\n",
       "    <tr style=\"text-align: right;\">\n",
       "      <th></th>\n",
       "      <th>Pclass</th>\n",
       "      <th>Sex</th>\n",
       "      <th>Age</th>\n",
       "      <th>SibSp</th>\n",
       "      <th>Parch</th>\n",
       "      <th>Fare</th>\n",
       "      <th>Embarked</th>\n",
       "      <th>Title</th>\n",
       "      <th>FamilySize</th>\n",
       "    </tr>\n",
       "  </thead>\n",
       "  <tbody>\n",
       "    <tr>\n",
       "      <th>0</th>\n",
       "      <td>3</td>\n",
       "      <td>0</td>\n",
       "      <td>34.5</td>\n",
       "      <td>0</td>\n",
       "      <td>0</td>\n",
       "      <td>7.8292</td>\n",
       "      <td>2</td>\n",
       "      <td>0</td>\n",
       "      <td>1</td>\n",
       "    </tr>\n",
       "    <tr>\n",
       "      <th>1</th>\n",
       "      <td>3</td>\n",
       "      <td>1</td>\n",
       "      <td>47.0</td>\n",
       "      <td>1</td>\n",
       "      <td>0</td>\n",
       "      <td>7.0000</td>\n",
       "      <td>0</td>\n",
       "      <td>1</td>\n",
       "      <td>2</td>\n",
       "    </tr>\n",
       "    <tr>\n",
       "      <th>2</th>\n",
       "      <td>2</td>\n",
       "      <td>0</td>\n",
       "      <td>62.0</td>\n",
       "      <td>0</td>\n",
       "      <td>0</td>\n",
       "      <td>9.6875</td>\n",
       "      <td>2</td>\n",
       "      <td>0</td>\n",
       "      <td>1</td>\n",
       "    </tr>\n",
       "    <tr>\n",
       "      <th>3</th>\n",
       "      <td>3</td>\n",
       "      <td>0</td>\n",
       "      <td>27.0</td>\n",
       "      <td>0</td>\n",
       "      <td>0</td>\n",
       "      <td>8.6625</td>\n",
       "      <td>0</td>\n",
       "      <td>0</td>\n",
       "      <td>1</td>\n",
       "    </tr>\n",
       "    <tr>\n",
       "      <th>4</th>\n",
       "      <td>3</td>\n",
       "      <td>1</td>\n",
       "      <td>22.0</td>\n",
       "      <td>1</td>\n",
       "      <td>1</td>\n",
       "      <td>12.2875</td>\n",
       "      <td>0</td>\n",
       "      <td>1</td>\n",
       "      <td>3</td>\n",
       "    </tr>\n",
       "  </tbody>\n",
       "</table>\n",
       "</div>"
      ],
      "text/plain": [
       "   Pclass  Sex   Age  SibSp  Parch     Fare  Embarked  Title  FamilySize\n",
       "0       3    0  34.5      0      0   7.8292         2      0           1\n",
       "1       3    1  47.0      1      0   7.0000         0      1           2\n",
       "2       2    0  62.0      0      0   9.6875         2      0           1\n",
       "3       3    0  27.0      0      0   8.6625         0      0           1\n",
       "4       3    1  22.0      1      1  12.2875         0      1           3"
      ]
     },
     "execution_count": 16,
     "metadata": {},
     "output_type": "execute_result"
    }
   ],
   "source": [
    "test.head()"
   ]
  },
  {
   "cell_type": "markdown",
   "metadata": {
    "papermill": {
     "duration": 0.01354,
     "end_time": "2020-08-16T00:03:06.476026",
     "exception": false,
     "start_time": "2020-08-16T00:03:06.462486",
     "status": "completed"
    },
    "tags": []
   },
   "source": [
    "# **PreProcessing**"
   ]
  },
  {
   "cell_type": "markdown",
   "metadata": {
    "papermill": {
     "duration": 0.014099,
     "end_time": "2020-08-16T00:03:06.504426",
     "exception": false,
     "start_time": "2020-08-16T00:03:06.490327",
     "status": "completed"
    },
    "tags": []
   },
   "source": [
    "**Now that our data looks good, lets get ready to build our models!**"
   ]
  },
  {
   "cell_type": "code",
   "execution_count": 17,
   "metadata": {
    "execution": {
     "iopub.execute_input": "2020-08-16T00:03:06.538376Z",
     "iopub.status.busy": "2020-08-16T00:03:06.537612Z",
     "iopub.status.idle": "2020-08-16T00:03:12.103848Z",
     "shell.execute_reply": "2020-08-16T00:03:12.102607Z"
    },
    "papermill": {
     "duration": 5.585812,
     "end_time": "2020-08-16T00:03:12.103987",
     "exception": false,
     "start_time": "2020-08-16T00:03:06.518175",
     "status": "completed"
    },
    "tags": []
   },
   "outputs": [],
   "source": [
    "#imports\n",
    "from sklearn.preprocessing import StandardScaler\n",
    "from sklearn.model_selection import train_test_split\n",
    "from sklearn.model_selection import GridSearchCV"
   ]
  },
  {
   "cell_type": "markdown",
   "metadata": {
    "papermill": {
     "duration": 0.01503,
     "end_time": "2020-08-16T00:03:12.134200",
     "exception": false,
     "start_time": "2020-08-16T00:03:12.119170",
     "status": "completed"
    },
    "tags": []
   },
   "source": [
    "We should scale the values in the data, so that the neural network can train better!"
   ]
  },
  {
   "cell_type": "code",
   "execution_count": 18,
   "metadata": {
    "execution": {
     "iopub.execute_input": "2020-08-16T00:03:12.174580Z",
     "iopub.status.busy": "2020-08-16T00:03:12.173590Z",
     "iopub.status.idle": "2020-08-16T00:03:12.188156Z",
     "shell.execute_reply": "2020-08-16T00:03:12.187674Z"
    },
    "papermill": {
     "duration": 0.038245,
     "end_time": "2020-08-16T00:03:12.188266",
     "exception": false,
     "start_time": "2020-08-16T00:03:12.150021",
     "status": "completed"
    },
    "tags": []
   },
   "outputs": [],
   "source": [
    "continuous = ['Age', 'Fare', 'Parch', 'Pclass', 'SibSp', 'FamilySize']\n",
    "\n",
    "scaler = StandardScaler()\n",
    "\n",
    "for var in continuous:\n",
    "    train[var] = train[var].astype('float64')\n",
    "    train[var] = scaler.fit_transform(train[var].values.reshape(-1, 1))\n",
    "for var in continuous:\n",
    "    test[var] = test[var].astype('float64')\n",
    "    test[var] = scaler.fit_transform(test[var].values.reshape(-1, 1))"
   ]
  },
  {
   "cell_type": "code",
   "execution_count": 19,
   "metadata": {
    "execution": {
     "iopub.execute_input": "2020-08-16T00:03:12.223938Z",
     "iopub.status.busy": "2020-08-16T00:03:12.223053Z",
     "iopub.status.idle": "2020-08-16T00:03:12.259925Z",
     "shell.execute_reply": "2020-08-16T00:03:12.260500Z"
    },
    "papermill": {
     "duration": 0.057722,
     "end_time": "2020-08-16T00:03:12.260637",
     "exception": false,
     "start_time": "2020-08-16T00:03:12.202915",
     "status": "completed"
    },
    "tags": []
   },
   "outputs": [
    {
     "data": {
      "text/html": [
       "<div>\n",
       "<style scoped>\n",
       "    .dataframe tbody tr th:only-of-type {\n",
       "        vertical-align: middle;\n",
       "    }\n",
       "\n",
       "    .dataframe tbody tr th {\n",
       "        vertical-align: top;\n",
       "    }\n",
       "\n",
       "    .dataframe thead th {\n",
       "        text-align: right;\n",
       "    }\n",
       "</style>\n",
       "<table border=\"1\" class=\"dataframe\">\n",
       "  <thead>\n",
       "    <tr style=\"text-align: right;\">\n",
       "      <th></th>\n",
       "      <th>count</th>\n",
       "      <th>mean</th>\n",
       "      <th>std</th>\n",
       "      <th>min</th>\n",
       "      <th>25%</th>\n",
       "      <th>50%</th>\n",
       "      <th>75%</th>\n",
       "      <th>max</th>\n",
       "    </tr>\n",
       "  </thead>\n",
       "  <tbody>\n",
       "    <tr>\n",
       "      <th>Pclass</th>\n",
       "      <td>891.0</td>\n",
       "      <td>-8.772133e-17</td>\n",
       "      <td>1.000562</td>\n",
       "      <td>-1.566107</td>\n",
       "      <td>-0.369365</td>\n",
       "      <td>0.827377</td>\n",
       "      <td>0.827377</td>\n",
       "      <td>0.827377</td>\n",
       "    </tr>\n",
       "    <tr>\n",
       "      <th>Sex</th>\n",
       "      <td>891.0</td>\n",
       "      <td>3.524130e-01</td>\n",
       "      <td>0.477990</td>\n",
       "      <td>0.000000</td>\n",
       "      <td>0.000000</td>\n",
       "      <td>0.000000</td>\n",
       "      <td>1.000000</td>\n",
       "      <td>1.000000</td>\n",
       "    </tr>\n",
       "    <tr>\n",
       "      <th>Age</th>\n",
       "      <td>891.0</td>\n",
       "      <td>2.232906e-16</td>\n",
       "      <td>1.000562</td>\n",
       "      <td>-2.253155</td>\n",
       "      <td>-0.592481</td>\n",
       "      <td>0.000000</td>\n",
       "      <td>0.407926</td>\n",
       "      <td>3.870872</td>\n",
       "    </tr>\n",
       "    <tr>\n",
       "      <th>SibSp</th>\n",
       "      <td>891.0</td>\n",
       "      <td>4.386066e-17</td>\n",
       "      <td>1.000562</td>\n",
       "      <td>-0.474545</td>\n",
       "      <td>-0.474545</td>\n",
       "      <td>-0.474545</td>\n",
       "      <td>0.432793</td>\n",
       "      <td>6.784163</td>\n",
       "    </tr>\n",
       "    <tr>\n",
       "      <th>Parch</th>\n",
       "      <td>891.0</td>\n",
       "      <td>5.382900e-17</td>\n",
       "      <td>1.000562</td>\n",
       "      <td>-0.473674</td>\n",
       "      <td>-0.473674</td>\n",
       "      <td>-0.473674</td>\n",
       "      <td>-0.473674</td>\n",
       "      <td>6.974147</td>\n",
       "    </tr>\n",
       "    <tr>\n",
       "      <th>Fare</th>\n",
       "      <td>891.0</td>\n",
       "      <td>3.987333e-18</td>\n",
       "      <td>1.000562</td>\n",
       "      <td>-0.648422</td>\n",
       "      <td>-0.489148</td>\n",
       "      <td>-0.357391</td>\n",
       "      <td>-0.024246</td>\n",
       "      <td>9.667167</td>\n",
       "    </tr>\n",
       "    <tr>\n",
       "      <th>Embarked</th>\n",
       "      <td>891.0</td>\n",
       "      <td>3.613917e-01</td>\n",
       "      <td>0.635673</td>\n",
       "      <td>0.000000</td>\n",
       "      <td>0.000000</td>\n",
       "      <td>0.000000</td>\n",
       "      <td>1.000000</td>\n",
       "      <td>2.000000</td>\n",
       "    </tr>\n",
       "    <tr>\n",
       "      <th>Title</th>\n",
       "      <td>891.0</td>\n",
       "      <td>3.591470e-01</td>\n",
       "      <td>0.480020</td>\n",
       "      <td>0.000000</td>\n",
       "      <td>0.000000</td>\n",
       "      <td>0.000000</td>\n",
       "      <td>1.000000</td>\n",
       "      <td>1.000000</td>\n",
       "    </tr>\n",
       "    <tr>\n",
       "      <th>FamilySize</th>\n",
       "      <td>891.0</td>\n",
       "      <td>-2.392400e-17</td>\n",
       "      <td>1.000562</td>\n",
       "      <td>-0.560975</td>\n",
       "      <td>-0.560975</td>\n",
       "      <td>-0.560975</td>\n",
       "      <td>0.059160</td>\n",
       "      <td>5.640372</td>\n",
       "    </tr>\n",
       "  </tbody>\n",
       "</table>\n",
       "</div>"
      ],
      "text/plain": [
       "            count          mean       std       min       25%       50%  \\\n",
       "Pclass      891.0 -8.772133e-17  1.000562 -1.566107 -0.369365  0.827377   \n",
       "Sex         891.0  3.524130e-01  0.477990  0.000000  0.000000  0.000000   \n",
       "Age         891.0  2.232906e-16  1.000562 -2.253155 -0.592481  0.000000   \n",
       "SibSp       891.0  4.386066e-17  1.000562 -0.474545 -0.474545 -0.474545   \n",
       "Parch       891.0  5.382900e-17  1.000562 -0.473674 -0.473674 -0.473674   \n",
       "Fare        891.0  3.987333e-18  1.000562 -0.648422 -0.489148 -0.357391   \n",
       "Embarked    891.0  3.613917e-01  0.635673  0.000000  0.000000  0.000000   \n",
       "Title       891.0  3.591470e-01  0.480020  0.000000  0.000000  0.000000   \n",
       "FamilySize  891.0 -2.392400e-17  1.000562 -0.560975 -0.560975 -0.560975   \n",
       "\n",
       "                 75%       max  \n",
       "Pclass      0.827377  0.827377  \n",
       "Sex         1.000000  1.000000  \n",
       "Age         0.407926  3.870872  \n",
       "SibSp       0.432793  6.784163  \n",
       "Parch      -0.473674  6.974147  \n",
       "Fare       -0.024246  9.667167  \n",
       "Embarked    1.000000  2.000000  \n",
       "Title       1.000000  1.000000  \n",
       "FamilySize  0.059160  5.640372  "
      ]
     },
     "execution_count": 19,
     "metadata": {},
     "output_type": "execute_result"
    }
   ],
   "source": [
    "train.describe(include='all').T\n"
   ]
  },
  {
   "cell_type": "markdown",
   "metadata": {
    "papermill": {
     "duration": 0.014497,
     "end_time": "2020-08-16T00:03:12.290830",
     "exception": false,
     "start_time": "2020-08-16T00:03:12.276333",
     "status": "completed"
    },
    "tags": []
   },
   "source": [
    "# **Logistic Regression**\n",
    "\n",
    "* `train` - stores training set data\n",
    "* `y_train` - stores training set results\n",
    "* `test` - stores test set data on which predictions have to be made\n",
    "\n",
    "First, fit the model using `train` and `y_train` and then make prediction on `test`\n",
    "<a id='main'></a>"
   ]
  },
  {
   "cell_type": "code",
   "execution_count": 20,
   "metadata": {
    "execution": {
     "iopub.execute_input": "2020-08-16T00:03:12.359244Z",
     "iopub.status.busy": "2020-08-16T00:03:12.358425Z",
     "iopub.status.idle": "2020-08-16T00:03:15.147061Z",
     "shell.execute_reply": "2020-08-16T00:03:15.146465Z"
    },
    "papermill": {
     "duration": 2.812936,
     "end_time": "2020-08-16T00:03:15.147176",
     "exception": false,
     "start_time": "2020-08-16T00:03:12.334240",
     "status": "completed"
    },
    "tags": []
   },
   "outputs": [],
   "source": [
    "from sklearn.linear_model import LogisticRegression\n",
    "#Write code for logistic regression here\n",
    "clf = LogisticRegression(random_state=0)\n",
    "model = clf.fit(train,y_train)"
   ]
  },
  {
   "cell_type": "markdown",
   "metadata": {
    "papermill": {
     "duration": 0.026701,
     "end_time": "2020-08-16T00:03:18.692199",
     "exception": false,
     "start_time": "2020-08-16T00:03:18.665498",
     "status": "completed"
    },
    "tags": []
   },
   "source": [
    "**Create Predictions**\n",
    "<a id='main2'></a>"
   ]
  },
  {
   "cell_type": "code",
   "execution_count": 21,
   "metadata": {
    "execution": {
     "iopub.execute_input": "2020-08-16T00:03:18.751021Z",
     "iopub.status.busy": "2020-08-16T00:03:18.750047Z",
     "iopub.status.idle": "2020-08-16T00:03:19.062102Z",
     "shell.execute_reply": "2020-08-16T00:03:19.061231Z"
    },
    "papermill": {
     "duration": 0.350469,
     "end_time": "2020-08-16T00:03:19.062253",
     "exception": false,
     "start_time": "2020-08-16T00:03:18.711784",
     "status": "completed"
    },
    "tags": []
   },
   "outputs": [],
   "source": [
    "#Write code to generate predictions file\n",
    "y_final = model.predict(test)\n",
    "output = pd.DataFrame({'PassengerId': test_data['PassengerId'], 'Survived': y_final})"
   ]
  },
  {
   "cell_type": "code",
   "execution_count": 22,
   "metadata": {},
   "outputs": [],
   "source": [
    "output.to_csv('prediction-ann-logistic-regression.csv', index=False)"
   ]
  }
 ],
 "metadata": {
  "kernelspec": {
   "display_name": "Python 3",
   "language": "python",
   "name": "python3"
  },
  "language_info": {
   "codemirror_mode": {
    "name": "ipython",
    "version": 3
   },
   "file_extension": ".py",
   "mimetype": "text/x-python",
   "name": "python",
   "nbconvert_exporter": "python",
   "pygments_lexer": "ipython3",
   "version": "3.8.6"
  },
  "papermill": {
   "duration": 22.836091,
   "end_time": "2020-08-16T00:03:21.705944",
   "environment_variables": {},
   "exception": null,
   "input_path": "__notebook__.ipynb",
   "output_path": "__notebook__.ipynb",
   "parameters": {},
   "start_time": "2020-08-16T00:02:58.869853",
   "version": "2.1.0"
  }
 },
 "nbformat": 4,
 "nbformat_minor": 4
}
